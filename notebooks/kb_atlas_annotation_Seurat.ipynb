{
  "nbformat": 4,
  "nbformat_minor": 0,
  "metadata": {
    "kernelspec": {
      "display_name": "R",
      "language": "R",
      "name": "ir"
    },
    "language_info": {
      "codemirror_mode": "r",
      "file_extension": ".r",
      "mimetype": "text/x-r-source",
      "name": "R",
      "pygments_lexer": "r",
      "version": "3.3.1"
    },
    "colab": {
      "name": "kb_atlas_annotation_Seurat.ipynb",
      "provenance": [],
      "collapsed_sections": [],
      "include_colab_link": true
    }
  },
  "cells": [
    {
      "cell_type": "markdown",
      "metadata": {
        "id": "view-in-github",
        "colab_type": "text"
      },
      "source": [
        "<a href=\"https://colab.research.google.com/github/pachterlab/kallistobustools/blob/master/notebooks/kb_atlas_annotation_Seurat.ipynb\" target=\"_parent\"><img src=\"https://colab.research.google.com/assets/colab-badge.svg\" alt=\"Open In Colab\"/></a>"
      ]
    },
    {
      "cell_type": "markdown",
      "metadata": {
        "id": "xHwUNEjg5atk",
        "colab_type": "text"
      },
      "source": [
        "This notebook performs analysis of the pbmc_1k v3 dataset from 10X Genomics. It runs kb and then performs and analysis with Seurat."
      ]
    },
    {
      "cell_type": "code",
      "metadata": {
        "id": "ejIxnerP5DUH",
        "colab_type": "code",
        "outputId": "6a1d9e39-8792-450e-f4f7-3c3b781c8dc6",
        "colab": {
          "base_uri": "https://localhost:8080/",
          "height": 33
        }
      },
      "source": [
        "system(\"date\", intern=TRUE)"
      ],
      "execution_count": 0,
      "outputs": [
        {
          "output_type": "display_data",
          "data": {
            "text/plain": [
              "[1] \"Wed Jan 29 07:56:34 UTC 2020\""
            ],
            "text/latex": "'Wed Jan 29 07:56:34 UTC 2020'",
            "text/markdown": "'Wed Jan 29 07:56:34 UTC 2020'",
            "text/html": [
              "'Wed Jan 29 07:56:34 UTC 2020'"
            ]
          },
          "metadata": {
            "tags": []
          }
        }
      ]
    },
    {
      "cell_type": "code",
      "metadata": {
        "colab_type": "code",
        "outputId": "bd952686-2d35-4556-a41a-17261b49aab6",
        "id": "14ZDT3Wc8c_x",
        "colab": {
          "base_uri": "https://localhost:8080/",
          "height": 161
        }
      },
      "source": [
        "system(\"wget http://cf.10xgenomics.com/samples/cell-exp/3.0.0/pbmc_1k_v3/pbmc_1k_v3_fastqs.tar\", intern=TRUE)\n",
        "system(\"tar -xvf pbmc_1k_v3_fastqs.tar\", intern=TRUE)"
      ],
      "execution_count": 0,
      "outputs": [
        {
          "output_type": "display_data",
          "data": {
            "text/plain": [
              "character(0)"
            ],
            "text/latex": "",
            "text/markdown": "",
            "text/html": [
              ""
            ]
          },
          "metadata": {
            "tags": []
          }
        },
        {
          "output_type": "display_data",
          "data": {
            "text/plain": [
              "[1] \"pbmc_1k_v3_fastqs/\"                                  \n",
              "[2] \"pbmc_1k_v3_fastqs/pbmc_1k_v3_S1_L001_R2_001.fastq.gz\"\n",
              "[3] \"pbmc_1k_v3_fastqs/pbmc_1k_v3_S1_L002_I1_001.fastq.gz\"\n",
              "[4] \"pbmc_1k_v3_fastqs/pbmc_1k_v3_S1_L001_R1_001.fastq.gz\"\n",
              "[5] \"pbmc_1k_v3_fastqs/pbmc_1k_v3_S1_L002_R1_001.fastq.gz\"\n",
              "[6] \"pbmc_1k_v3_fastqs/pbmc_1k_v3_S1_L002_R2_001.fastq.gz\"\n",
              "[7] \"pbmc_1k_v3_fastqs/pbmc_1k_v3_S1_L001_I1_001.fastq.gz\""
            ],
            "text/latex": "\\begin{enumerate*}\n\\item 'pbmc\\_1k\\_v3\\_fastqs/'\n\\item 'pbmc\\_1k\\_v3\\_fastqs/pbmc\\_1k\\_v3\\_S1\\_L001\\_R2\\_001.fastq.gz'\n\\item 'pbmc\\_1k\\_v3\\_fastqs/pbmc\\_1k\\_v3\\_S1\\_L002\\_I1\\_001.fastq.gz'\n\\item 'pbmc\\_1k\\_v3\\_fastqs/pbmc\\_1k\\_v3\\_S1\\_L001\\_R1\\_001.fastq.gz'\n\\item 'pbmc\\_1k\\_v3\\_fastqs/pbmc\\_1k\\_v3\\_S1\\_L002\\_R1\\_001.fastq.gz'\n\\item 'pbmc\\_1k\\_v3\\_fastqs/pbmc\\_1k\\_v3\\_S1\\_L002\\_R2\\_001.fastq.gz'\n\\item 'pbmc\\_1k\\_v3\\_fastqs/pbmc\\_1k\\_v3\\_S1\\_L001\\_I1\\_001.fastq.gz'\n\\end{enumerate*}\n",
            "text/markdown": "1. 'pbmc_1k_v3_fastqs/'\n2. 'pbmc_1k_v3_fastqs/pbmc_1k_v3_S1_L001_R2_001.fastq.gz'\n3. 'pbmc_1k_v3_fastqs/pbmc_1k_v3_S1_L002_I1_001.fastq.gz'\n4. 'pbmc_1k_v3_fastqs/pbmc_1k_v3_S1_L001_R1_001.fastq.gz'\n5. 'pbmc_1k_v3_fastqs/pbmc_1k_v3_S1_L002_R1_001.fastq.gz'\n6. 'pbmc_1k_v3_fastqs/pbmc_1k_v3_S1_L002_R2_001.fastq.gz'\n7. 'pbmc_1k_v3_fastqs/pbmc_1k_v3_S1_L001_I1_001.fastq.gz'\n\n\n",
            "text/html": [
              "<ol class=list-inline>\n",
              "\t<li>'pbmc_1k_v3_fastqs/'</li>\n",
              "\t<li>'pbmc_1k_v3_fastqs/pbmc_1k_v3_S1_L001_R2_001.fastq.gz'</li>\n",
              "\t<li>'pbmc_1k_v3_fastqs/pbmc_1k_v3_S1_L002_I1_001.fastq.gz'</li>\n",
              "\t<li>'pbmc_1k_v3_fastqs/pbmc_1k_v3_S1_L001_R1_001.fastq.gz'</li>\n",
              "\t<li>'pbmc_1k_v3_fastqs/pbmc_1k_v3_S1_L002_R1_001.fastq.gz'</li>\n",
              "\t<li>'pbmc_1k_v3_fastqs/pbmc_1k_v3_S1_L002_R2_001.fastq.gz'</li>\n",
              "\t<li>'pbmc_1k_v3_fastqs/pbmc_1k_v3_S1_L001_I1_001.fastq.gz'</li>\n",
              "</ol>\n"
            ]
          },
          "metadata": {
            "tags": []
          }
        }
      ]
    },
    {
      "cell_type": "code",
      "metadata": {
        "id": "FDHFh6JahAlu",
        "colab_type": "code",
        "outputId": "d89ab923-df81-41e2-f752-eea543873c50",
        "colab": {
          "base_uri": "https://localhost:8080/",
          "height": 711
        }
      },
      "source": [
        "system(\"pip3 install kb-python\", intern=TRUE)\n"
      ],
      "execution_count": 0,
      "outputs": [
        {
          "output_type": "display_data",
          "data": {
            "text/plain": [
              " [1] \"Collecting kb-python\"                                                                                                                                                                                 \n",
              " [2] \"  Downloading https://files.pythonhosted.org/packages/62/c9/2e5b8fa2cd873a23ae1aeb128b33165d6a9387a2f56ea1fafec1d6d32477/kb_python-0.24.4-py3-none-any.whl (35.4MB)\"                                  \n",
              " [3] \"Collecting loompy>=3.0.6\"                                                                                                                                                                             \n",
              " [4] \"  Downloading https://files.pythonhosted.org/packages/36/52/74ed37ae5988522fbf87b856c67c4f80700e6452410b4cd80498c5f416f9/loompy-3.0.6.tar.gz (41kB)\"                                                  \n",
              " [5] \"Collecting anndata>=0.6.22.post1\"                                                                                                                                                                     \n",
              " [6] \"  Downloading https://files.pythonhosted.org/packages/5b/c8/5c594a95ba293433dfe1cf188075ccbabe495bf2d291be744974aca85ffc/anndata-0.7.1-py3-none-any.whl (97kB)\"                                       \n",
              " [7] \"Requirement already satisfied: h5py in /usr/local/lib/python3.6/dist-packages (from loompy>=3.0.6->kb-python) (2.8.0)\"                                                                                \n",
              " [8] \"Requirement already satisfied: numpy in /usr/local/lib/python3.6/dist-packages (from loompy>=3.0.6->kb-python) (1.17.5)\"                                                                              \n",
              " [9] \"Requirement already satisfied: scipy in /usr/local/lib/python3.6/dist-packages (from loompy>=3.0.6->kb-python) (1.4.1)\"                                                                               \n",
              "[10] \"Requirement already satisfied: setuptools in /usr/local/lib/python3.6/dist-packages (from loompy>=3.0.6->kb-python) (42.0.2)\"                                                                         \n",
              "[11] \"Requirement already satisfied: numba in /usr/local/lib/python3.6/dist-packages (from loompy>=3.0.6->kb-python) (0.47.0)\"                                                                              \n",
              "[12] \"Requirement already satisfied: click in /usr/local/lib/python3.6/dist-packages (from loompy>=3.0.6->kb-python) (7.0)\"                                                                                 \n",
              "[13] \"Collecting numpy-groupies\"                                                                                                                                                                            \n",
              "[14] \"  Downloading https://files.pythonhosted.org/packages/57/ae/18217b57ba3e4bb8a44ecbfc161ed065f6d1b90c75d404bd6ba8d6f024e2/numpy_groupies-0.9.10.tar.gz (43kB)\"                                         \n",
              "[15] \"Requirement already satisfied: packaging in /usr/local/lib/python3.6/dist-packages (from anndata>=0.6.22.post1->kb-python) (20.0)\"                                                                    \n",
              "[16] \"Requirement already satisfied: pandas>=0.23.0 in /usr/local/lib/python3.6/dist-packages (from anndata>=0.6.22.post1->kb-python) (0.25.3)\"                                                             \n",
              "[17] \"Requirement already satisfied: natsort in /usr/local/lib/python3.6/dist-packages (from anndata>=0.6.22.post1->kb-python) (5.5.0)\"                                                                     \n",
              "[18] \"Requirement already satisfied: importlib-metadata>=0.7; python_version < \\\"3.8\\\" in /usr/local/lib/python3.6/dist-packages (from anndata>=0.6.22.post1->kb-python) (1.4.0)\"                           \n",
              "[19] \"Requirement already satisfied: six in /usr/local/lib/python3.6/dist-packages (from h5py->loompy>=3.0.6->kb-python) (1.12.0)\"                                                                          \n",
              "[20] \"Requirement already satisfied: llvmlite>=0.31.0dev0 in /usr/local/lib/python3.6/dist-packages (from numba->loompy>=3.0.6->kb-python) (0.31.0)\"                                                        \n",
              "[21] \"Requirement already satisfied: pyparsing>=2.0.2 in /usr/local/lib/python3.6/dist-packages (from packaging->anndata>=0.6.22.post1->kb-python) (2.4.6)\"                                                 \n",
              "[22] \"Requirement already satisfied: python-dateutil>=2.6.1 in /usr/local/lib/python3.6/dist-packages (from pandas>=0.23.0->anndata>=0.6.22.post1->kb-python) (2.6.1)\"                                      \n",
              "[23] \"Requirement already satisfied: pytz>=2017.2 in /usr/local/lib/python3.6/dist-packages (from pandas>=0.23.0->anndata>=0.6.22.post1->kb-python) (2018.9)\"                                               \n",
              "[24] \"Requirement already satisfied: zipp>=0.5 in /usr/local/lib/python3.6/dist-packages (from importlib-metadata>=0.7; python_version < \\\"3.8\\\"->anndata>=0.6.22.post1->kb-python) (1.0.0)\"                \n",
              "[25] \"Requirement already satisfied: more-itertools in /usr/local/lib/python3.6/dist-packages (from zipp>=0.5->importlib-metadata>=0.7; python_version < \\\"3.8\\\"->anndata>=0.6.22.post1->kb-python) (8.0.2)\"\n",
              "[26] \"Building wheels for collected packages: loompy, numpy-groupies\"                                                                                                                                       \n",
              "[27] \"  Building wheel for loompy (setup.py): started\"                                                                                                                                                      \n",
              "[28] \"  Building wheel for loompy (setup.py): finished with status 'done'\"                                                                                                                                  \n",
              "[29] \"  Created wheel for loompy: filename=loompy-3.0.6-cp36-none-any.whl size=47896 sha256=1a6e64e08f981e48850b82eab47cf1dae2510d9de4d7f531f5b727f60ca1f92a\"                                               \n",
              "[30] \"  Stored in directory: /root/.cache/pip/wheels/f9/a4/90/5a98ad83419732b0fba533b81a2a52ba3dbe230a936ca4cdc9\"                                                                                           \n",
              "[31] \"  Building wheel for numpy-groupies (setup.py): started\"                                                                                                                                              \n",
              "[32] \"  Building wheel for numpy-groupies (setup.py): finished with status 'done'\"                                                                                                                          \n",
              "[33] \"  Created wheel for numpy-groupies: filename=numpy_groupies-0+unknown-cp36-none-any.whl size=28044 sha256=8b7519db11059add3ab4fe446ebf8840f3269600655bf5d30b171f6dab66f5d0\"                           \n",
              "[34] \"  Stored in directory: /root/.cache/pip/wheels/30/ac/83/64d5f9293aeaec63f9539142fc629a41af064cae1b3d8d94aa\"                                                                                           \n",
              "[35] \"Successfully built loompy numpy-groupies\"                                                                                                                                                             \n",
              "[36] \"Installing collected packages: numpy-groupies, loompy, anndata, kb-python\"                                                                                                                            \n",
              "[37] \"Successfully installed anndata-0.7.1 kb-python-0.24.4 loompy-3.0.6 numpy-groupies-0+unknown\"                                                                                                          "
            ],
            "text/latex": "\\begin{enumerate*}\n\\item 'Collecting kb-python'\n\\item '  Downloading https://files.pythonhosted.org/packages/62/c9/2e5b8fa2cd873a23ae1aeb128b33165d6a9387a2f56ea1fafec1d6d32477/kb\\_python-0.24.4-py3-none-any.whl (35.4MB)'\n\\item 'Collecting loompy>=3.0.6'\n\\item '  Downloading https://files.pythonhosted.org/packages/36/52/74ed37ae5988522fbf87b856c67c4f80700e6452410b4cd80498c5f416f9/loompy-3.0.6.tar.gz (41kB)'\n\\item 'Collecting anndata>=0.6.22.post1'\n\\item '  Downloading https://files.pythonhosted.org/packages/5b/c8/5c594a95ba293433dfe1cf188075ccbabe495bf2d291be744974aca85ffc/anndata-0.7.1-py3-none-any.whl (97kB)'\n\\item 'Requirement already satisfied: h5py in /usr/local/lib/python3.6/dist-packages (from loompy>=3.0.6->kb-python) (2.8.0)'\n\\item 'Requirement already satisfied: numpy in /usr/local/lib/python3.6/dist-packages (from loompy>=3.0.6->kb-python) (1.17.5)'\n\\item 'Requirement already satisfied: scipy in /usr/local/lib/python3.6/dist-packages (from loompy>=3.0.6->kb-python) (1.4.1)'\n\\item 'Requirement already satisfied: setuptools in /usr/local/lib/python3.6/dist-packages (from loompy>=3.0.6->kb-python) (42.0.2)'\n\\item 'Requirement already satisfied: numba in /usr/local/lib/python3.6/dist-packages (from loompy>=3.0.6->kb-python) (0.47.0)'\n\\item 'Requirement already satisfied: click in /usr/local/lib/python3.6/dist-packages (from loompy>=3.0.6->kb-python) (7.0)'\n\\item 'Collecting numpy-groupies'\n\\item '  Downloading https://files.pythonhosted.org/packages/57/ae/18217b57ba3e4bb8a44ecbfc161ed065f6d1b90c75d404bd6ba8d6f024e2/numpy\\_groupies-0.9.10.tar.gz (43kB)'\n\\item 'Requirement already satisfied: packaging in /usr/local/lib/python3.6/dist-packages (from anndata>=0.6.22.post1->kb-python) (20.0)'\n\\item 'Requirement already satisfied: pandas>=0.23.0 in /usr/local/lib/python3.6/dist-packages (from anndata>=0.6.22.post1->kb-python) (0.25.3)'\n\\item 'Requirement already satisfied: natsort in /usr/local/lib/python3.6/dist-packages (from anndata>=0.6.22.post1->kb-python) (5.5.0)'\n\\item 'Requirement already satisfied: importlib-metadata>=0.7; python\\_version < \"3.8\" in /usr/local/lib/python3.6/dist-packages (from anndata>=0.6.22.post1->kb-python) (1.4.0)'\n\\item 'Requirement already satisfied: six in /usr/local/lib/python3.6/dist-packages (from h5py->loompy>=3.0.6->kb-python) (1.12.0)'\n\\item 'Requirement already satisfied: llvmlite>=0.31.0dev0 in /usr/local/lib/python3.6/dist-packages (from numba->loompy>=3.0.6->kb-python) (0.31.0)'\n\\item 'Requirement already satisfied: pyparsing>=2.0.2 in /usr/local/lib/python3.6/dist-packages (from packaging->anndata>=0.6.22.post1->kb-python) (2.4.6)'\n\\item 'Requirement already satisfied: python-dateutil>=2.6.1 in /usr/local/lib/python3.6/dist-packages (from pandas>=0.23.0->anndata>=0.6.22.post1->kb-python) (2.6.1)'\n\\item 'Requirement already satisfied: pytz>=2017.2 in /usr/local/lib/python3.6/dist-packages (from pandas>=0.23.0->anndata>=0.6.22.post1->kb-python) (2018.9)'\n\\item 'Requirement already satisfied: zipp>=0.5 in /usr/local/lib/python3.6/dist-packages (from importlib-metadata>=0.7; python\\_version < \"3.8\"->anndata>=0.6.22.post1->kb-python) (1.0.0)'\n\\item 'Requirement already satisfied: more-itertools in /usr/local/lib/python3.6/dist-packages (from zipp>=0.5->importlib-metadata>=0.7; python\\_version < \"3.8\"->anndata>=0.6.22.post1->kb-python) (8.0.2)'\n\\item 'Building wheels for collected packages: loompy, numpy-groupies'\n\\item '  Building wheel for loompy (setup.py): started'\n\\item '  Building wheel for loompy (setup.py): finished with status \\textbackslash{}'done\\textbackslash{}''\n\\item '  Created wheel for loompy: filename=loompy-3.0.6-cp36-none-any.whl size=47896 sha256=1a6e64e08f981e48850b82eab47cf1dae2510d9de4d7f531f5b727f60ca1f92a'\n\\item '  Stored in directory: /root/.cache/pip/wheels/f9/a4/90/5a98ad83419732b0fba533b81a2a52ba3dbe230a936ca4cdc9'\n\\item '  Building wheel for numpy-groupies (setup.py): started'\n\\item '  Building wheel for numpy-groupies (setup.py): finished with status \\textbackslash{}'done\\textbackslash{}''\n\\item '  Created wheel for numpy-groupies: filename=numpy\\_groupies-0+unknown-cp36-none-any.whl size=28044 sha256=8b7519db11059add3ab4fe446ebf8840f3269600655bf5d30b171f6dab66f5d0'\n\\item '  Stored in directory: /root/.cache/pip/wheels/30/ac/83/64d5f9293aeaec63f9539142fc629a41af064cae1b3d8d94aa'\n\\item 'Successfully built loompy numpy-groupies'\n\\item 'Installing collected packages: numpy-groupies, loompy, anndata, kb-python'\n\\item 'Successfully installed anndata-0.7.1 kb-python-0.24.4 loompy-3.0.6 numpy-groupies-0+unknown'\n\\end{enumerate*}\n",
            "text/markdown": "1. 'Collecting kb-python'\n2. <span style=white-space:pre-wrap>'  Downloading https://files.pythonhosted.org/packages/62/c9/2e5b8fa2cd873a23ae1aeb128b33165d6a9387a2f56ea1fafec1d6d32477/kb_python-0.24.4-py3-none-any.whl (35.4MB)'</span>\n3. 'Collecting loompy&gt;=3.0.6'\n4. <span style=white-space:pre-wrap>'  Downloading https://files.pythonhosted.org/packages/36/52/74ed37ae5988522fbf87b856c67c4f80700e6452410b4cd80498c5f416f9/loompy-3.0.6.tar.gz (41kB)'</span>\n5. 'Collecting anndata&gt;=0.6.22.post1'\n6. <span style=white-space:pre-wrap>'  Downloading https://files.pythonhosted.org/packages/5b/c8/5c594a95ba293433dfe1cf188075ccbabe495bf2d291be744974aca85ffc/anndata-0.7.1-py3-none-any.whl (97kB)'</span>\n7. 'Requirement already satisfied: h5py in /usr/local/lib/python3.6/dist-packages (from loompy&gt;=3.0.6-&gt;kb-python) (2.8.0)'\n8. 'Requirement already satisfied: numpy in /usr/local/lib/python3.6/dist-packages (from loompy&gt;=3.0.6-&gt;kb-python) (1.17.5)'\n9. 'Requirement already satisfied: scipy in /usr/local/lib/python3.6/dist-packages (from loompy&gt;=3.0.6-&gt;kb-python) (1.4.1)'\n10. 'Requirement already satisfied: setuptools in /usr/local/lib/python3.6/dist-packages (from loompy&gt;=3.0.6-&gt;kb-python) (42.0.2)'\n11. 'Requirement already satisfied: numba in /usr/local/lib/python3.6/dist-packages (from loompy&gt;=3.0.6-&gt;kb-python) (0.47.0)'\n12. 'Requirement already satisfied: click in /usr/local/lib/python3.6/dist-packages (from loompy&gt;=3.0.6-&gt;kb-python) (7.0)'\n13. 'Collecting numpy-groupies'\n14. <span style=white-space:pre-wrap>'  Downloading https://files.pythonhosted.org/packages/57/ae/18217b57ba3e4bb8a44ecbfc161ed065f6d1b90c75d404bd6ba8d6f024e2/numpy_groupies-0.9.10.tar.gz (43kB)'</span>\n15. 'Requirement already satisfied: packaging in /usr/local/lib/python3.6/dist-packages (from anndata&gt;=0.6.22.post1-&gt;kb-python) (20.0)'\n16. 'Requirement already satisfied: pandas&gt;=0.23.0 in /usr/local/lib/python3.6/dist-packages (from anndata&gt;=0.6.22.post1-&gt;kb-python) (0.25.3)'\n17. 'Requirement already satisfied: natsort in /usr/local/lib/python3.6/dist-packages (from anndata&gt;=0.6.22.post1-&gt;kb-python) (5.5.0)'\n18. 'Requirement already satisfied: importlib-metadata&gt;=0.7; python_version &lt; \"3.8\" in /usr/local/lib/python3.6/dist-packages (from anndata&gt;=0.6.22.post1-&gt;kb-python) (1.4.0)'\n19. 'Requirement already satisfied: six in /usr/local/lib/python3.6/dist-packages (from h5py-&gt;loompy&gt;=3.0.6-&gt;kb-python) (1.12.0)'\n20. 'Requirement already satisfied: llvmlite&gt;=0.31.0dev0 in /usr/local/lib/python3.6/dist-packages (from numba-&gt;loompy&gt;=3.0.6-&gt;kb-python) (0.31.0)'\n21. 'Requirement already satisfied: pyparsing&gt;=2.0.2 in /usr/local/lib/python3.6/dist-packages (from packaging-&gt;anndata&gt;=0.6.22.post1-&gt;kb-python) (2.4.6)'\n22. 'Requirement already satisfied: python-dateutil&gt;=2.6.1 in /usr/local/lib/python3.6/dist-packages (from pandas&gt;=0.23.0-&gt;anndata&gt;=0.6.22.post1-&gt;kb-python) (2.6.1)'\n23. 'Requirement already satisfied: pytz&gt;=2017.2 in /usr/local/lib/python3.6/dist-packages (from pandas&gt;=0.23.0-&gt;anndata&gt;=0.6.22.post1-&gt;kb-python) (2018.9)'\n24. 'Requirement already satisfied: zipp&gt;=0.5 in /usr/local/lib/python3.6/dist-packages (from importlib-metadata&gt;=0.7; python_version &lt; \"3.8\"-&gt;anndata&gt;=0.6.22.post1-&gt;kb-python) (1.0.0)'\n25. 'Requirement already satisfied: more-itertools in /usr/local/lib/python3.6/dist-packages (from zipp&gt;=0.5-&gt;importlib-metadata&gt;=0.7; python_version &lt; \"3.8\"-&gt;anndata&gt;=0.6.22.post1-&gt;kb-python) (8.0.2)'\n26. 'Building wheels for collected packages: loompy, numpy-groupies'\n27. <span style=white-space:pre-wrap>'  Building wheel for loompy (setup.py): started'</span>\n28. <span style=white-space:pre-wrap>'  Building wheel for loompy (setup.py): finished with status \\'done\\''</span>\n29. <span style=white-space:pre-wrap>'  Created wheel for loompy: filename=loompy-3.0.6-cp36-none-any.whl size=47896 sha256=1a6e64e08f981e48850b82eab47cf1dae2510d9de4d7f531f5b727f60ca1f92a'</span>\n30. <span style=white-space:pre-wrap>'  Stored in directory: /root/.cache/pip/wheels/f9/a4/90/5a98ad83419732b0fba533b81a2a52ba3dbe230a936ca4cdc9'</span>\n31. <span style=white-space:pre-wrap>'  Building wheel for numpy-groupies (setup.py): started'</span>\n32. <span style=white-space:pre-wrap>'  Building wheel for numpy-groupies (setup.py): finished with status \\'done\\''</span>\n33. <span style=white-space:pre-wrap>'  Created wheel for numpy-groupies: filename=numpy_groupies-0+unknown-cp36-none-any.whl size=28044 sha256=8b7519db11059add3ab4fe446ebf8840f3269600655bf5d30b171f6dab66f5d0'</span>\n34. <span style=white-space:pre-wrap>'  Stored in directory: /root/.cache/pip/wheels/30/ac/83/64d5f9293aeaec63f9539142fc629a41af064cae1b3d8d94aa'</span>\n35. 'Successfully built loompy numpy-groupies'\n36. 'Installing collected packages: numpy-groupies, loompy, anndata, kb-python'\n37. 'Successfully installed anndata-0.7.1 kb-python-0.24.4 loompy-3.0.6 numpy-groupies-0+unknown'\n\n\n",
            "text/html": [
              "<ol class=list-inline>\n",
              "\t<li>'Collecting kb-python'</li>\n",
              "\t<li><span style=white-space:pre-wrap>'  Downloading https://files.pythonhosted.org/packages/62/c9/2e5b8fa2cd873a23ae1aeb128b33165d6a9387a2f56ea1fafec1d6d32477/kb_python-0.24.4-py3-none-any.whl (35.4MB)'</span></li>\n",
              "\t<li>'Collecting loompy&gt;=3.0.6'</li>\n",
              "\t<li><span style=white-space:pre-wrap>'  Downloading https://files.pythonhosted.org/packages/36/52/74ed37ae5988522fbf87b856c67c4f80700e6452410b4cd80498c5f416f9/loompy-3.0.6.tar.gz (41kB)'</span></li>\n",
              "\t<li>'Collecting anndata&gt;=0.6.22.post1'</li>\n",
              "\t<li><span style=white-space:pre-wrap>'  Downloading https://files.pythonhosted.org/packages/5b/c8/5c594a95ba293433dfe1cf188075ccbabe495bf2d291be744974aca85ffc/anndata-0.7.1-py3-none-any.whl (97kB)'</span></li>\n",
              "\t<li>'Requirement already satisfied: h5py in /usr/local/lib/python3.6/dist-packages (from loompy&gt;=3.0.6-&gt;kb-python) (2.8.0)'</li>\n",
              "\t<li>'Requirement already satisfied: numpy in /usr/local/lib/python3.6/dist-packages (from loompy&gt;=3.0.6-&gt;kb-python) (1.17.5)'</li>\n",
              "\t<li>'Requirement already satisfied: scipy in /usr/local/lib/python3.6/dist-packages (from loompy&gt;=3.0.6-&gt;kb-python) (1.4.1)'</li>\n",
              "\t<li>'Requirement already satisfied: setuptools in /usr/local/lib/python3.6/dist-packages (from loompy&gt;=3.0.6-&gt;kb-python) (42.0.2)'</li>\n",
              "\t<li>'Requirement already satisfied: numba in /usr/local/lib/python3.6/dist-packages (from loompy&gt;=3.0.6-&gt;kb-python) (0.47.0)'</li>\n",
              "\t<li>'Requirement already satisfied: click in /usr/local/lib/python3.6/dist-packages (from loompy&gt;=3.0.6-&gt;kb-python) (7.0)'</li>\n",
              "\t<li>'Collecting numpy-groupies'</li>\n",
              "\t<li><span style=white-space:pre-wrap>'  Downloading https://files.pythonhosted.org/packages/57/ae/18217b57ba3e4bb8a44ecbfc161ed065f6d1b90c75d404bd6ba8d6f024e2/numpy_groupies-0.9.10.tar.gz (43kB)'</span></li>\n",
              "\t<li>'Requirement already satisfied: packaging in /usr/local/lib/python3.6/dist-packages (from anndata&gt;=0.6.22.post1-&gt;kb-python) (20.0)'</li>\n",
              "\t<li>'Requirement already satisfied: pandas&gt;=0.23.0 in /usr/local/lib/python3.6/dist-packages (from anndata&gt;=0.6.22.post1-&gt;kb-python) (0.25.3)'</li>\n",
              "\t<li>'Requirement already satisfied: natsort in /usr/local/lib/python3.6/dist-packages (from anndata&gt;=0.6.22.post1-&gt;kb-python) (5.5.0)'</li>\n",
              "\t<li>'Requirement already satisfied: importlib-metadata&gt;=0.7; python_version &lt; \"3.8\" in /usr/local/lib/python3.6/dist-packages (from anndata&gt;=0.6.22.post1-&gt;kb-python) (1.4.0)'</li>\n",
              "\t<li>'Requirement already satisfied: six in /usr/local/lib/python3.6/dist-packages (from h5py-&gt;loompy&gt;=3.0.6-&gt;kb-python) (1.12.0)'</li>\n",
              "\t<li>'Requirement already satisfied: llvmlite&gt;=0.31.0dev0 in /usr/local/lib/python3.6/dist-packages (from numba-&gt;loompy&gt;=3.0.6-&gt;kb-python) (0.31.0)'</li>\n",
              "\t<li>'Requirement already satisfied: pyparsing&gt;=2.0.2 in /usr/local/lib/python3.6/dist-packages (from packaging-&gt;anndata&gt;=0.6.22.post1-&gt;kb-python) (2.4.6)'</li>\n",
              "\t<li>'Requirement already satisfied: python-dateutil&gt;=2.6.1 in /usr/local/lib/python3.6/dist-packages (from pandas&gt;=0.23.0-&gt;anndata&gt;=0.6.22.post1-&gt;kb-python) (2.6.1)'</li>\n",
              "\t<li>'Requirement already satisfied: pytz&gt;=2017.2 in /usr/local/lib/python3.6/dist-packages (from pandas&gt;=0.23.0-&gt;anndata&gt;=0.6.22.post1-&gt;kb-python) (2018.9)'</li>\n",
              "\t<li>'Requirement already satisfied: zipp&gt;=0.5 in /usr/local/lib/python3.6/dist-packages (from importlib-metadata&gt;=0.7; python_version &lt; \"3.8\"-&gt;anndata&gt;=0.6.22.post1-&gt;kb-python) (1.0.0)'</li>\n",
              "\t<li>'Requirement already satisfied: more-itertools in /usr/local/lib/python3.6/dist-packages (from zipp&gt;=0.5-&gt;importlib-metadata&gt;=0.7; python_version &lt; \"3.8\"-&gt;anndata&gt;=0.6.22.post1-&gt;kb-python) (8.0.2)'</li>\n",
              "\t<li>'Building wheels for collected packages: loompy, numpy-groupies'</li>\n",
              "\t<li><span style=white-space:pre-wrap>'  Building wheel for loompy (setup.py): started'</span></li>\n",
              "\t<li><span style=white-space:pre-wrap>'  Building wheel for loompy (setup.py): finished with status \\'done\\''</span></li>\n",
              "\t<li><span style=white-space:pre-wrap>'  Created wheel for loompy: filename=loompy-3.0.6-cp36-none-any.whl size=47896 sha256=1a6e64e08f981e48850b82eab47cf1dae2510d9de4d7f531f5b727f60ca1f92a'</span></li>\n",
              "\t<li><span style=white-space:pre-wrap>'  Stored in directory: /root/.cache/pip/wheels/f9/a4/90/5a98ad83419732b0fba533b81a2a52ba3dbe230a936ca4cdc9'</span></li>\n",
              "\t<li><span style=white-space:pre-wrap>'  Building wheel for numpy-groupies (setup.py): started'</span></li>\n",
              "\t<li><span style=white-space:pre-wrap>'  Building wheel for numpy-groupies (setup.py): finished with status \\'done\\''</span></li>\n",
              "\t<li><span style=white-space:pre-wrap>'  Created wheel for numpy-groupies: filename=numpy_groupies-0+unknown-cp36-none-any.whl size=28044 sha256=8b7519db11059add3ab4fe446ebf8840f3269600655bf5d30b171f6dab66f5d0'</span></li>\n",
              "\t<li><span style=white-space:pre-wrap>'  Stored in directory: /root/.cache/pip/wheels/30/ac/83/64d5f9293aeaec63f9539142fc629a41af064cae1b3d8d94aa'</span></li>\n",
              "\t<li>'Successfully built loompy numpy-groupies'</li>\n",
              "\t<li>'Installing collected packages: numpy-groupies, loompy, anndata, kb-python'</li>\n",
              "\t<li>'Successfully installed anndata-0.7.1 kb-python-0.24.4 loompy-3.0.6 numpy-groupies-0+unknown'</li>\n",
              "</ol>\n"
            ]
          },
          "metadata": {
            "tags": []
          }
        }
      ]
    },
    {
      "cell_type": "code",
      "metadata": {
        "id": "Tc6ndqkqTVXP",
        "colab_type": "code",
        "outputId": "417ee585-c7cb-4171-ef41-b6e23f63ee1b",
        "colab": {
          "base_uri": "https://localhost:8080/",
          "height": 16
        }
      },
      "source": [
        "system(\"kb ref -d human -i index.idx -g t2g.txt -f1 transcriptome.fasta\",intern=TRUE)"
      ],
      "execution_count": 0,
      "outputs": [
        {
          "output_type": "display_data",
          "data": {
            "text/plain": [
              "character(0)"
            ],
            "text/latex": "",
            "text/markdown": "",
            "text/html": [
              ""
            ]
          },
          "metadata": {
            "tags": []
          }
        }
      ]
    },
    {
      "cell_type": "code",
      "metadata": {
        "id": "Z3MgRWtoTbL0",
        "colab_type": "code",
        "outputId": "ad058a42-cb04-44e5-ce62-fa075a5a2806",
        "colab": {
          "base_uri": "https://localhost:8080/",
          "height": 16
        }
      },
      "source": [
        "system(\"kb count --h5ad -i index.idx -g t2g.txt -x 10xv3 -o output --filter bustools -t 2 pbmc_1k_v3_fastqs/pbmc_1k_v3_S1_L001_R1_001.fastq.gz pbmc_1k_v3_fastqs/pbmc_1k_v3_S1_L001_R2_001.fastq.gz pbmc_1k_v3_fastqs/pbmc_1k_v3_S1_L002_R1_001.fastq.gz pbmc_1k_v3_fastqs/pbmc_1k_v3_S1_L002_R2_001.fastq.gz\",intern=TRUE)"
      ],
      "execution_count": 0,
      "outputs": [
        {
          "output_type": "display_data",
          "data": {
            "text/plain": [
              "character(0)"
            ],
            "text/latex": "",
            "text/markdown": "",
            "text/html": [
              ""
            ]
          },
          "metadata": {
            "tags": []
          }
        }
      ]
    },
    {
      "cell_type": "markdown",
      "metadata": {
        "id": "3Ct93iChFweg",
        "colab_type": "text"
      },
      "source": [
        "# Setup the Seurat Object\n",
        "For this tutorial, we will be analyzing the a dataset of Peripheral Blood Mononuclear Cells (PBMC) freely available from 10X Genomics. There are 2,700 single cells that were sequenced on the Illumina NextSeq 500. The raw data can be found here.\n",
        "\n",
        "We start by reading in the data. The Read10X function reads in the output of the cellranger pipeline from 10X, returning a unique molecular identified (UMI) count matrix. The values in this matrix represent the number of molecules for each feature (i.e. gene; row) that are detected in each cell (column).\n",
        "\n",
        "We next use the count matrix to create a Seurat object. The object serves as a container that contains both data (like the count matrix) and analysis (like PCA, or clustering results) for a single-cell dataset. For a technical discussion of the Seurat object structure, check out our GitHub Wiki. For example, the count matrix is stored in pbmc[[\"RNA\"]]@counts."
      ]
    },
    {
      "cell_type": "code",
      "metadata": {
        "id": "8EZ8Zm7zagc0",
        "colab_type": "code",
        "outputId": "e2804b54-d7e9-41fb-96c9-b02d5d560d6c",
        "colab": {
          "base_uri": "https://localhost:8080/",
          "height": 283
        }
      },
      "source": [
        "if (!requireNamespace(\"BiocManager\", quietly = TRUE))\n",
        "    install.packages(\"BiocManager\")\n",
        "\n",
        "BiocManager::install('multtest')"
      ],
      "execution_count": 0,
      "outputs": [
        {
          "output_type": "stream",
          "text": [
            "Installing package into ‘/usr/local/lib/R/site-library’\n",
            "(as ‘lib’ is unspecified)\n",
            "\n",
            "Bioconductor version 3.10 (BiocManager 1.30.10), R 3.6.2 (2019-12-12)\n",
            "\n",
            "Installing package(s) 'BiocVersion', 'multtest'\n",
            "\n",
            "also installing the dependencies ‘BiocGenerics’, ‘Biobase’\n",
            "\n",
            "\n",
            "Old packages: 'repr', 'BH', 'broom', 'callr', 'cli', 'curl', 'DBI', 'DT',\n",
            "  'fansi', 'farver', 'gh', 'hms', 'knitr', 'mime', 'pillar', 'prettyunits',\n",
            "  'rlang', 'rmarkdown', 'rprojroot', 'stringi', 'tidyr', 'tidyselect',\n",
            "  'tinytex', 'vctrs', 'xfun', 'xtable', 'boot', 'foreign', 'MASS'\n",
            "\n"
          ],
          "name": "stderr"
        }
      ]
    },
    {
      "cell_type": "code",
      "metadata": {
        "id": "xEymONhcbu-b",
        "colab_type": "code",
        "outputId": "e4df3bd8-4495-4f74-ca1a-8023c3f077b5",
        "colab": {
          "base_uri": "https://localhost:8080/",
          "height": 123
        }
      },
      "source": [
        "install.packages('mutoss')"
      ],
      "execution_count": 0,
      "outputs": [
        {
          "output_type": "stream",
          "text": [
            "Installing package into ‘/usr/local/lib/R/site-library’\n",
            "(as ‘lib’ is unspecified)\n",
            "\n",
            "also installing the dependencies ‘zoo’, ‘TH.data’, ‘sandwich’, ‘mvtnorm’, ‘plotrix’, ‘multcomp’\n",
            "\n",
            "\n"
          ],
          "name": "stderr"
        }
      ]
    },
    {
      "cell_type": "code",
      "metadata": {
        "id": "7fxxA1qyb1Us",
        "colab_type": "code",
        "outputId": "db6320bb-d2d6-4394-e0b6-5379eb51cab0",
        "colab": {
          "base_uri": "https://localhost:8080/",
          "height": 123
        }
      },
      "source": [
        "install.packages('metap')"
      ],
      "execution_count": 0,
      "outputs": [
        {
          "output_type": "stream",
          "text": [
            "Installing package into ‘/usr/local/lib/R/site-library’\n",
            "(as ‘lib’ is unspecified)\n",
            "\n",
            "also installing the dependencies ‘mnormt’, ‘numDeriv’, ‘bibtex’, ‘gbRd’, ‘sn’, ‘Rdpack’, ‘TFisher’\n",
            "\n",
            "\n"
          ],
          "name": "stderr"
        }
      ]
    },
    {
      "cell_type": "code",
      "metadata": {
        "id": "7y6eRUu9UwBF",
        "colab_type": "code",
        "outputId": "f9f6e821-e0bf-42e5-a356-bee7cf9283fb",
        "colab": {
          "base_uri": "https://localhost:8080/",
          "height": 445
        }
      },
      "source": [
        "install.packages('dplyr')\n",
        "install.packages('Seurat')\n",
        "library(dplyr)\n",
        "library(Seurat)"
      ],
      "execution_count": 0,
      "outputs": [
        {
          "output_type": "stream",
          "text": [
            "Installing package into ‘/usr/local/lib/R/site-library’\n",
            "(as ‘lib’ is unspecified)\n",
            "\n",
            "Installing package into ‘/usr/local/lib/R/site-library’\n",
            "(as ‘lib’ is unspecified)\n",
            "\n",
            "also installing the dependencies ‘bitops’, ‘lsei’, ‘gtools’, ‘gdata’, ‘caTools’, ‘R.oo’, ‘R.methodsS3’, ‘sitmo’, ‘npsurv’, ‘globals’, ‘listenv’, ‘hexbin’, ‘data.table’, ‘rappdirs’, ‘gplots’, ‘gridExtra’, ‘R.utils’, ‘FNN’, ‘RSpectra’, ‘RcppParallel’, ‘dqrng’, ‘ape’, ‘cowplot’, ‘fitdistrplus’, ‘future’, ‘future.apply’, ‘ggrepel’, ‘ggridges’, ‘ica’, ‘igraph’, ‘irlba’, ‘leiden’, ‘lmtest’, ‘pbapply’, ‘plotly’, ‘png’, ‘RANN’, ‘RcppAnnoy’, ‘reticulate’, ‘ROCR’, ‘rsvd’, ‘Rtsne’, ‘sctransform’, ‘SDMTools’, ‘tsne’, ‘uwot’, ‘RcppEigen’, ‘RcppProgress’\n",
            "\n",
            "\n",
            "\n",
            "Attaching package: ‘dplyr’\n",
            "\n",
            "\n",
            "The following objects are masked from ‘package:stats’:\n",
            "\n",
            "    filter, lag\n",
            "\n",
            "\n",
            "The following objects are masked from ‘package:base’:\n",
            "\n",
            "    intersect, setdiff, setequal, union\n",
            "\n",
            "\n"
          ],
          "name": "stderr"
        }
      ]
    },
    {
      "cell_type": "code",
      "metadata": {
        "id": "NDmqGJWEcSo_",
        "colab_type": "code",
        "colab": {}
      },
      "source": [
        "#system(\"wget https://s3-us-west-2.amazonaws.com/10x.files/samples/cell/pbmc3k/pbmc3k_filtered_gene_bc_matrices.tar.gz\",intern=TRUE);\n",
        "#system(\"gunzip pbmc3k_filtered_gene_bc_matrices.tar.gz\", intern=TRUE);\n",
        "#system(\"tar -xvf pbmc3k_filtered_gene_bc_matrices.tar\", intern=TRUE)\n",
        "#system(\"cp filtered_gene_bc_matrices/hg19/* .\",intern=TRUE)"
      ],
      "execution_count": 0,
      "outputs": []
    },
    {
      "cell_type": "code",
      "metadata": {
        "id": "Pxp4o1MKVHTc",
        "colab_type": "code",
        "outputId": "bad72345-ff77-437a-ed29-8e799ffb2de1",
        "colab": {
          "base_uri": "https://localhost:8080/",
          "height": 33
        }
      },
      "source": [
        "system(\"date\", intern=TRUE)"
      ],
      "execution_count": 0,
      "outputs": [
        {
          "output_type": "display_data",
          "data": {
            "text/plain": [
              "[1] \"Wed Jan 29 08:34:58 UTC 2020\""
            ],
            "text/latex": "'Wed Jan 29 08:34:58 UTC 2020'",
            "text/markdown": "'Wed Jan 29 08:34:58 UTC 2020'",
            "text/html": [
              "'Wed Jan 29 08:34:58 UTC 2020'"
            ]
          },
          "metadata": {
            "tags": []
          }
        }
      ]
    },
    {
      "cell_type": "code",
      "metadata": {
        "id": "ZBD-5Kpr65uI",
        "colab_type": "code",
        "outputId": "445949e9-cf73-40cb-a8ee-2ba6990cb9c6",
        "colab": {
          "base_uri": "https://localhost:8080/",
          "height": 16
        }
      },
      "source": [
        "system(\"mv output/counts_unfiltered/cells_x_genes.barcodes.txt barcodes.tsv\",intern=TRUE)\n",
        "system(\"mv output/counts_unfiltered/cells_x_genes.mtx matrix.mtx\",intern=TRUE)"
      ],
      "execution_count": 0,
      "outputs": [
        {
          "output_type": "display_data",
          "data": {
            "text/plain": [
              "character(0)"
            ],
            "text/latex": "",
            "text/markdown": "",
            "text/html": [
              ""
            ]
          },
          "metadata": {
            "tags": []
          }
        },
        {
          "output_type": "display_data",
          "data": {
            "text/plain": [
              "character(0)"
            ],
            "text/latex": "",
            "text/markdown": "",
            "text/html": [
              ""
            ]
          },
          "metadata": {
            "tags": []
          }
        }
      ]
    },
    {
      "cell_type": "code",
      "metadata": {
        "id": "QW3qsvq4SOa4",
        "colab_type": "code",
        "outputId": "2c7a135b-40b1-4ef8-a206-5d6a9ea14678",
        "colab": {
          "base_uri": "https://localhost:8080/",
          "height": 16
        }
      },
      "source": [
        "system(\"cut -f 2-3 t2g.txt > genes.tsv\", intern=TRUE)"
      ],
      "execution_count": 0,
      "outputs": [
        {
          "output_type": "display_data",
          "data": {
            "text/plain": [
              "character(0)"
            ],
            "text/latex": "",
            "text/markdown": "",
            "text/html": [
              ""
            ]
          },
          "metadata": {
            "tags": []
          }
        }
      ]
    },
    {
      "cell_type": "code",
      "metadata": {
        "id": "IW9ojh4mdwaM",
        "colab_type": "code",
        "outputId": "f9821521-ab9d-42c3-fa43-c618dda7fdb3",
        "colab": {
          "base_uri": "https://localhost:8080/",
          "height": 240
        }
      },
      "source": [
        "pbmc.data <- Read10X(data.dir = \".\")\n",
        "pbmc <- CreateSeuratObject(counts = pbmc.data, project = \"pbmc1k\", min.cells = 3, min.features = 200)\n",
        "pbmc"
      ],
      "execution_count": 0,
      "outputs": [
        {
          "output_type": "error",
          "ename": "ERROR",
          "evalue": "ignored",
          "traceback": [
            "Error in dimnamesGets(x, value): invalid dimnames given for “dgTMatrix” object\nTraceback:\n",
            "1. Read10X(data.dir = \".\")",
            "2. `colnames<-`(x = `*tmp*`, value = cell.names)",
            "3. `dimnames<-`(`*tmp*`, value = dn)",
            "4. `dimnames<-`(`*tmp*`, value = dn)",
            "5. dimnamesGets(x, value)",
            "6. stop(gettextf(\"invalid dimnames given for %s object\", dQuote(class(x))), \n .     domain = NA)"
          ]
        }
      ]
    },
    {
      "cell_type": "code",
      "metadata": {
        "id": "lpyq1STgd1eM",
        "colab_type": "code",
        "colab": {}
      },
      "source": [
        "pbmc.data[c(\"CD3D\", \"TCL1A\", \"MS4A1\"), 1:30]\n"
      ],
      "execution_count": 0,
      "outputs": []
    },
    {
      "cell_type": "markdown",
      "metadata": {
        "id": "Q400KmrKF3VM",
        "colab_type": "text"
      },
      "source": [
        "The . values in the matrix represent 0s (no molecules detected). Since most values in an scRNA-seq matrix are 0, Seurat uses a sparse-matrix representation whenever possible. This results in significant memory and speed savings for Drop-seq/inDrop/10x data."
      ]
    },
    {
      "cell_type": "code",
      "metadata": {
        "id": "p6XK8mGleD62",
        "colab_type": "code",
        "colab": {}
      },
      "source": [
        "dense.size <- object.size(as.matrix(pbmc.data))\n",
        "dense.size\n"
      ],
      "execution_count": 0,
      "outputs": []
    },
    {
      "cell_type": "code",
      "metadata": {
        "id": "6RD8PYjgeGO9",
        "colab_type": "code",
        "colab": {}
      },
      "source": [
        "sparse.size <- object.size(pbmc.data)\n",
        "sparse.size\n"
      ],
      "execution_count": 0,
      "outputs": []
    },
    {
      "cell_type": "code",
      "metadata": {
        "id": "HZEL1m_UeI46",
        "colab_type": "code",
        "colab": {}
      },
      "source": [
        "dense.size/sparse.size\n"
      ],
      "execution_count": 0,
      "outputs": []
    },
    {
      "cell_type": "markdown",
      "metadata": {
        "id": "jU8rJMCrF6sB",
        "colab_type": "text"
      },
      "source": [
        "Standard pre-processing workflow\n",
        "The steps below encompass the standard pre-processing workflow for scRNA-seq data in Seurat. These represent the selection and filtration of cells based on QC metrics, data normalization and scaling, and the detection of highly variable features.\n",
        "\n",
        "QC and selecting cells for further analysis\n",
        "Seurat allows you to easily explore QC metrics and filter cells based on any user-defined criteria. A few QC metrics commonly used by the community include\n",
        "\n",
        "The number of unique genes detected in each cell.\n",
        "Low-quality cells or empty droplets will often have very few genes\n",
        "Cell doublets or multiplets may exhibit an aberrantly high gene count\n",
        "Similarly, the total number of molecules detected within a cell (correlates strongly with unique genes)\n",
        "The percentage of reads that map to the mitochondrial genome\n",
        "Low-quality / dying cells often exhibit extensive mitochondrial contamination\n",
        "We calculate mitochondrial QC metrics with the PercentageFeatureSet function, which calculates the percentage of counts originating from a set of features\n",
        "We use the set of all genes starting with MT- as a set of mitochondrial genes"
      ]
    },
    {
      "cell_type": "code",
      "metadata": {
        "id": "XNoCxYj4eKV1",
        "colab_type": "code",
        "colab": {}
      },
      "source": [
        "# The [[ operator can add columns to object metadata. This is a great place to stash QC stats\n",
        "pbmc[[\"percent.mt\"]] <- PercentageFeatureSet(pbmc, pattern = \"^MT-\")\n"
      ],
      "execution_count": 0,
      "outputs": []
    },
    {
      "cell_type": "markdown",
      "metadata": {
        "id": "QuFB9I8EF-cV",
        "colab_type": "text"
      },
      "source": [
        "The number of unique genes and total molecules are automatically calculated during CreateSeuratObject\n",
        "You can find them stored in the object meta data\n"
      ]
    },
    {
      "cell_type": "code",
      "metadata": {
        "id": "SrAHJpnQeO23",
        "colab_type": "code",
        "colab": {}
      },
      "source": [
        "# Show QC metrics for the first 5 cells\n",
        "head(pbmc@meta.data, 5)\n"
      ],
      "execution_count": 0,
      "outputs": []
    },
    {
      "cell_type": "markdown",
      "metadata": {
        "id": "12OS5nz0GAzI",
        "colab_type": "text"
      },
      "source": [
        "In the example below, we visualize QC metrics, and use these to filter cells.\n",
        "\n",
        "We filter cells that have unique feature counts over 2,500 or less than 200\n",
        "We filter cells that have >5% mitochondrial counts"
      ]
    },
    {
      "cell_type": "code",
      "metadata": {
        "id": "vuyQ4gQIeQ6G",
        "colab_type": "code",
        "colab": {}
      },
      "source": [
        "# Visualize QC metrics as a violin plot\n",
        "VlnPlot(pbmc, features = c(\"nFeature_RNA\", \"nCount_RNA\", \"percent.mt\"), ncol = 3)"
      ],
      "execution_count": 0,
      "outputs": []
    },
    {
      "cell_type": "code",
      "metadata": {
        "id": "9_PJG6R3eSqf",
        "colab_type": "code",
        "colab": {}
      },
      "source": [
        "# FeatureScatter is typically used to visualize feature-feature relationships, but can be used\n",
        "# for anything calculated by the object, i.e. columns in object metadata, PC scores etc.\n",
        "\n",
        "plot1 <- FeatureScatter(pbmc, feature1 = \"nCount_RNA\", feature2 = \"percent.mt\")\n",
        "plot2 <- FeatureScatter(pbmc, feature1 = \"nCount_RNA\", feature2 = \"nFeature_RNA\")\n",
        "CombinePlots(plots = list(plot1, plot2))"
      ],
      "execution_count": 0,
      "outputs": []
    },
    {
      "cell_type": "markdown",
      "metadata": {
        "id": "WmDzk4toGIJK",
        "colab_type": "text"
      },
      "source": [
        "Normalizing the data\n",
        "After removing unwanted cells from the dataset, the next step is to normalize the data. By default, we employ a global-scaling normalization method “LogNormalize” that normalizes the feature expression measurements for each cell by the total expression, multiplies this by a scale factor (10,000 by default), and log-transforms the result. Normalized values are stored in pbmc[[\"RNA\"]]@data."
      ]
    },
    {
      "cell_type": "code",
      "metadata": {
        "id": "kBgBw8PX4uxv",
        "colab_type": "code",
        "colab": {}
      },
      "source": [
        "\n",
        "pbmc <- subset(pbmc, subset = nFeature_RNA > 200 & nFeature_RNA < 2500 & percent.mt < 5)\n"
      ],
      "execution_count": 0,
      "outputs": []
    },
    {
      "cell_type": "markdown",
      "metadata": {
        "id": "0hVR9zhPGLGK",
        "colab_type": "text"
      },
      "source": [
        "# Normalizing the data\n",
        "After removing unwanted cells from the dataset, the next step is to normalize the data. By default, we employ a global-scaling normalization method “LogNormalize” that normalizes the feature expression measurements for each cell by the total expression, multiplies this by a scale factor (10,000 by default), and log-transforms the result. Normalized values are stored in pbmc[[\"RNA\"]]@data."
      ]
    },
    {
      "cell_type": "code",
      "metadata": {
        "id": "feW3qdxl4xey",
        "colab_type": "code",
        "colab": {}
      },
      "source": [
        "pbmc <- NormalizeData(pbmc, normalization.method = \"LogNormalize\", scale.factor = 10000)\n"
      ],
      "execution_count": 0,
      "outputs": []
    },
    {
      "cell_type": "markdown",
      "metadata": {
        "id": "LpRzAbOcIbb0",
        "colab_type": "text"
      },
      "source": [
        "For clarity, in this previous line of code (and in future commands), we provide the default values for certain parameters in the function call. However, this isn’t required and the same behavior can be achieved with:"
      ]
    },
    {
      "cell_type": "code",
      "metadata": {
        "id": "zMC86JAFIgJk",
        "colab_type": "code",
        "colab": {}
      },
      "source": [
        "pbmc <- NormalizeData(pbmc)\n"
      ],
      "execution_count": 0,
      "outputs": []
    },
    {
      "cell_type": "markdown",
      "metadata": {
        "id": "l4bE92ytIhml",
        "colab_type": "text"
      },
      "source": [
        "# Identification of highly variable features (feature selection)\n",
        "We next calculate a subset of features that exhibit high cell-to-cell variation in the dataset (i.e, they are highly expressed in some cells, and lowly expressed in others). We and others have found that focusing on these genes in downstream analysis helps to highlight biological signal in single-cell datasets.\n",
        "\n",
        "Our procedure in Seurat3 is described in detail here, and improves on previous versions by directly modeling the mean-variance relationship inherent in single-cell data, and is implemented in the FindVariableFeatures function. By default, we return 2,000 features per dataset. These will be used in downstream analysis, like PCA."
      ]
    },
    {
      "cell_type": "code",
      "metadata": {
        "id": "QZjxsgME476V",
        "colab_type": "code",
        "colab": {}
      },
      "source": [
        "pbmc <- FindVariableFeatures(pbmc, selection.method = \"vst\", nfeatures = 2000)\n",
        "\n",
        "# Identify the 10 most highly variable genes\n",
        "top10 <- head(VariableFeatures(pbmc), 10)\n",
        "\n",
        "# plot variable features with and without labels\n",
        "plot1 <- VariableFeaturePlot(pbmc)\n",
        "plot2 <- LabelPoints(plot = plot1, points = top10, repel = TRUE)\n",
        "CombinePlots(plots = list(plot1, plot2))"
      ],
      "execution_count": 0,
      "outputs": []
    },
    {
      "cell_type": "markdown",
      "metadata": {
        "id": "G_5ox8-wB4iT",
        "colab_type": "text"
      },
      "source": [
        "#Scaling the data\n",
        "Next, we apply a linear transformation (‘scaling’) that is a standard pre-processing step prior to dimensional reduction techniques like PCA. The ScaleData function:\n",
        "\n",
        "Shifts the expression of each gene, so that the mean expression across cells is 0\n",
        "Scales the expression of each gene, so that the variance across cells is 1\n",
        "This step gives equal weight in downstream analyses, so that highly-expressed genes do not dominate\n",
        "The results of this are stored in pbmc[[\"RNA\"]]@scale.data"
      ]
    },
    {
      "cell_type": "code",
      "metadata": {
        "id": "Y-TvQeO04-Lx",
        "colab_type": "code",
        "colab": {}
      },
      "source": [
        "all.genes <- rownames(pbmc)\n",
        "pbmc <- ScaleData(pbmc, features = all.genes)"
      ],
      "execution_count": 0,
      "outputs": []
    },
    {
      "cell_type": "markdown",
      "metadata": {
        "id": "RLYgF7hXCDF5",
        "colab_type": "text"
      },
      "source": [
        "Scaling is an essential step in the Seurat workflow, but only on genes that will be used as input to PCA. Therefore, the default in ScaleData is only to perform scaling on the previously identified variable features (2,000 by default). To do this, omit the features argument in the previous function call, i.e"
      ]
    },
    {
      "cell_type": "code",
      "metadata": {
        "id": "8vmfMpDwB7uZ",
        "colab_type": "code",
        "colab": {}
      },
      "source": [
        "pbmc <- ScaleData(pbmc)\n"
      ],
      "execution_count": 0,
      "outputs": []
    },
    {
      "cell_type": "markdown",
      "metadata": {
        "id": "t0JyfdQUCJah",
        "colab_type": "text"
      },
      "source": [
        "Your PCA and clustering results will be unaffected. However, Seurat heatmaps (produced as shown below with DoHeatmap) require genes in the heatmap to be scaled, to make sure highly-expressed genes don’t dominate the heatmap. To make sure we don’t leave any genes out of the heatmap later, we are scaling all genes in this tutorial.\n",
        "\n"
      ]
    },
    {
      "cell_type": "markdown",
      "metadata": {
        "id": "016q91cMCNVa",
        "colab_type": "text"
      },
      "source": [
        "In Seurat v2 we also use the ScaleData function to remove unwanted sources of variation from a single-cell dataset. For example, we could ‘regress out’ heterogeneity associated with (for example) cell cycle stage, or mitochondrial contamination. These features are still supported in ScaleData in Seurat v3, i.e.:"
      ]
    },
    {
      "cell_type": "code",
      "metadata": {
        "id": "IqbCkRetCGQB",
        "colab_type": "code",
        "colab": {}
      },
      "source": [
        "pbmc <- ScaleData(pbmc, vars.to.regress = \"percent.mt\")"
      ],
      "execution_count": 0,
      "outputs": []
    },
    {
      "cell_type": "markdown",
      "metadata": {
        "id": "6L6LqIq5CRoB",
        "colab_type": "text"
      },
      "source": [
        "However, particularly for advanced users who would like to use this functionality, we strongly recommend the use of our new normalization workflow, sctransform. The method is described in our recent preprint, with a separate vignette using Seurat v3 here. As with ScaleData, the function SCTransform also includes a vars.to.regress parameter.\n",
        "\n"
      ]
    },
    {
      "cell_type": "markdown",
      "metadata": {
        "id": "sE4O2ZrKCWZV",
        "colab_type": "text"
      },
      "source": [
        "# Perform linear dimensional reduction\n",
        "Next we perform PCA on the scaled data. By default, only the previously determined variable features are used as input, but can be defined using features argument if you wish to choose a different subset."
      ]
    },
    {
      "cell_type": "code",
      "metadata": {
        "id": "8uww3EPSCPTn",
        "colab_type": "code",
        "colab": {}
      },
      "source": [
        "pbmc <- RunPCA(pbmc, features = VariableFeatures(object = pbmc))\n"
      ],
      "execution_count": 0,
      "outputs": []
    },
    {
      "cell_type": "markdown",
      "metadata": {
        "id": "fmY_1LMsCpRx",
        "colab_type": "text"
      },
      "source": [
        "Seurat provides several useful ways of visualizing both cells and features that define the PCA, including VizDimReduction, DimPlot, and DimHeatmap\n",
        "\n"
      ]
    },
    {
      "cell_type": "code",
      "metadata": {
        "id": "QNDEtFchCle9",
        "colab_type": "code",
        "colab": {}
      },
      "source": [
        "# Examine and visualize PCA results a few different ways\n",
        "print(pbmc[[\"pca\"]], dims = 1:5, nfeatures = 5)\n"
      ],
      "execution_count": 0,
      "outputs": []
    },
    {
      "cell_type": "code",
      "metadata": {
        "id": "0NXE0BPkCrg_",
        "colab_type": "code",
        "colab": {}
      },
      "source": [
        "VizDimLoadings(pbmc, dims = 1:2, reduction = \"pca\")\n"
      ],
      "execution_count": 0,
      "outputs": []
    },
    {
      "cell_type": "code",
      "metadata": {
        "id": "tDqjGQjhCtll",
        "colab_type": "code",
        "colab": {}
      },
      "source": [
        "DimPlot(pbmc, reduction = \"pca\")\n"
      ],
      "execution_count": 0,
      "outputs": []
    },
    {
      "cell_type": "markdown",
      "metadata": {
        "id": "dbU18WajCxax",
        "colab_type": "text"
      },
      "source": [
        "In particular DimHeatmap allows for easy exploration of the primary sources of heterogeneity in a dataset, and can be useful when trying to decide which PCs to include for further downstream analyses. Both cells and features are ordered according to their PCA scores. Setting cells to a number plots the ‘extreme’ cells on both ends of the spectrum, which dramatically speeds plotting for large datasets. Though clearly a supervised analysis, we find this to be a valuable tool for exploring correlated feature sets."
      ]
    },
    {
      "cell_type": "code",
      "metadata": {
        "id": "z2MmxD8cCvCO",
        "colab_type": "code",
        "colab": {}
      },
      "source": [
        "DimHeatmap(pbmc, dims = 1, cells = 500, balanced = TRUE)\n"
      ],
      "execution_count": 0,
      "outputs": []
    },
    {
      "cell_type": "code",
      "metadata": {
        "id": "DKrNU0syCzK8",
        "colab_type": "code",
        "colab": {}
      },
      "source": [
        "DimHeatmap(pbmc, dims = 1:15, cells = 500, balanced = TRUE)\n"
      ],
      "execution_count": 0,
      "outputs": []
    },
    {
      "cell_type": "markdown",
      "metadata": {
        "id": "c7ILN3zbC3Ib",
        "colab_type": "text"
      },
      "source": [
        "# Determine the ‘dimensionality’ of the dataset\n",
        "To overcome the extensive technical noise in any single feature for scRNA-seq data, Seurat clusters cells based on their PCA scores, with each PC essentially representing a ‘metafeature’ that combines information across a correlated feature set. The top principal components therefore represent a robust compression of the dataset. However, how many componenets should we choose to include? 10? 20? 100?\n",
        "\n",
        "In Macosko et al, we implemented a resampling test inspired by the JackStraw procedure. We randomly permute a subset of the data (1% by default) and rerun PCA, constructing a ‘null distribution’ of feature scores, and repeat this procedure. We identify ‘significant’ PCs as those who have a strong enrichment of low p-value features."
      ]
    },
    {
      "cell_type": "code",
      "metadata": {
        "id": "T2Ofimv4C0kB",
        "colab_type": "code",
        "colab": {}
      },
      "source": [
        "# NOTE: This process can take a long time for big datasets, comment out for expediency. More\n",
        "# approximate techniques such as those implemented in ElbowPlot() can be used to reduce\n",
        "# computation time\n",
        "pbmc <- JackStraw(pbmc, num.replicate = 100)\n",
        "pbmc <- ScoreJackStraw(pbmc, dims = 1:20)"
      ],
      "execution_count": 0,
      "outputs": []
    },
    {
      "cell_type": "markdown",
      "metadata": {
        "id": "VqyDNMaiC88g",
        "colab_type": "text"
      },
      "source": [
        "The JackStrawPlot function provides a visualization tool for comparing the distribution of p-values for each PC with a uniform distribution (dashed line). ‘Significant’ PCs will show a strong enrichment of features with low p-values (solid curve above the dashed line). In this case it appears that there is a sharp drop-off in significance after the first 10-12 PCs."
      ]
    },
    {
      "cell_type": "code",
      "metadata": {
        "id": "amrm9cf5DALZ",
        "colab_type": "code",
        "colab": {}
      },
      "source": [
        "JackStrawPlot(pbmc, dims = 1:15)\n"
      ],
      "execution_count": 0,
      "outputs": []
    },
    {
      "cell_type": "markdown",
      "metadata": {
        "id": "NtrIIDhxDXf-",
        "colab_type": "text"
      },
      "source": [
        "An alternative heuristic method generates an ‘Elbow plot’: a ranking of principle components based on the percentage of variance explained by each one (ElbowPlot function). In this example, we can observe an ‘elbow’ around PC9-10, suggesting that the majority of true signal is captured in the first 10 PCs."
      ]
    },
    {
      "cell_type": "code",
      "metadata": {
        "id": "kwyw7pjWDAfi",
        "colab_type": "code",
        "colab": {}
      },
      "source": [
        "ElbowPlot(pbmc)\n"
      ],
      "execution_count": 0,
      "outputs": []
    },
    {
      "cell_type": "markdown",
      "metadata": {
        "id": "uVbadozLDcNP",
        "colab_type": "text"
      },
      "source": [
        "Identifying the true dimensionality of a dataset – can be challenging/uncertain for the user. We therefore suggest these three approaches to consider. The first is more supervised, exploring PCs to determine relevant sources of heterogeneity, and could be used in conjunction with GSEA for example. The second implements a statistical test based on a random null model, but is time-consuming for large datasets, and may not return a clear PC cutoff. The third is a heuristic that is commonly used, and can be calculated instantly. In this example, all three approaches yielded similar results, but we might have been justified in choosing anything between PC 7-12 as a cutoff.\n",
        "\n",
        "We chose 10 here, but encourage users to consider the following:\n",
        "\n",
        "Dendritic cell and NK aficionados may recognize that genes strongly associated with PCs 12 and 13 define rare immune subsets (i.e. MZB1 is a marker for plasmacytoid DCs). However, these groups are so rare, they are difficult to distinguish from background noise for a dataset of this size without prior knowledge.\n",
        "We encourage users to repeat downstream analyses with a different number of PCs (10, 15, or even 50!). As you will observe, the results often do not differ dramatically.\n",
        "We advise users to err on the higher side when choosing this parameter. For example, performing downstream analyses with only 5 PCs does signifcanltly and adversely affect results."
      ]
    },
    {
      "cell_type": "markdown",
      "metadata": {
        "id": "h78tzi69DgnX",
        "colab_type": "text"
      },
      "source": [
        "Cluster the cells\n",
        "Seurat v3 applies a graph-based clustering approach, building upon initial strategies in (Macosko et al). Importantly, the distance metric which drives the clustering analysis (based on previously identified PCs) remains the same. However, our approach to partioning the cellular distance matrix into clusters has dramatically improved. Our approach was heavily inspired by recent manuscripts which applied graph-based clustering approaches to scRNA-seq data [SNN-Cliq, Xu and Su, Bioinformatics, 2015] and CyTOF data [PhenoGraph, Levine et al., Cell, 2015]. Briefly, these methods embed cells in a graph structure - for example a K-nearest neighbor (KNN) graph, with edges drawn between cells with similar feature expression patterns, and then attempt to partition this graph into highly interconnected ‘quasi-cliques’ or ‘communities’.\n",
        "\n",
        "As in PhenoGraph, we first construct a KNN graph based on the euclidean distance in PCA space, and refine the edge weights between any two cells based on the shared overlap in their local neighborhoods (Jaccard similarity). This step is performed using the FindNeighbors function, and takes as input the previously defined dimensionality of the dataset (first 10 PCs).\n",
        "\n",
        "To cluster the cells, we next apply modularity optimization techniques such as the Louvain algorithm (default) or SLM [SLM, Blondel et al., Journal of Statistical Mechanics], to iteratively group cells together, with the goal of optimizing the standard modularity function. The FindClusters function implements this procedure, and contains a resolution parameter that sets the ‘granularity’ of the downstream clustering, with increased values leading to a greater number of clusters. We find that setting this parameter between 0.4-1.2 typically returns good results for single-cell datasets of around 3K cells. Optimal resolution often increases for larger datasets. The clusters can be found using the Idents function."
      ]
    },
    {
      "cell_type": "code",
      "metadata": {
        "id": "fOWzXh32Dja0",
        "colab_type": "code",
        "colab": {}
      },
      "source": [
        "pbmc <- FindNeighbors(pbmc, dims = 1:10)\n",
        "pbmc <- FindClusters(pbmc, resolution = 0.5)\n"
      ],
      "execution_count": 0,
      "outputs": []
    },
    {
      "cell_type": "code",
      "metadata": {
        "id": "OTzEXOEcDldB",
        "colab_type": "code",
        "colab": {}
      },
      "source": [
        "# Look at cluster IDs of the first 5 cells\n",
        "head(Idents(pbmc), 5)"
      ],
      "execution_count": 0,
      "outputs": []
    },
    {
      "cell_type": "markdown",
      "metadata": {
        "id": "L6bNvl3oD7nN",
        "colab_type": "text"
      },
      "source": [
        "# Run non-linear dimensional reduction (UMAP/tSNE)\n",
        "Seurat offers several non-linear dimensional reduction techniques, such as tSNE and UMAP, to visualize and explore these datasets. The goal of these algorithms is to learn the underlying manifold of the data in order to place similar cells together in low-dimensional space. Cells within the graph-based clusters determined above should co-localize on these dimension reduction plots. As input to the UMAP and tSNE, we suggest using the same PCs as input to the clustering analysis."
      ]
    },
    {
      "cell_type": "code",
      "metadata": {
        "id": "aVxI62sZD2w8",
        "colab_type": "code",
        "colab": {}
      },
      "source": [
        "# If you haven't installed UMAP, you can do so via reticulate::py_install(packages =\n",
        "# 'umap-learn')\n",
        "pbmc <- RunUMAP(pbmc, dims = 1:10)"
      ],
      "execution_count": 0,
      "outputs": []
    },
    {
      "cell_type": "code",
      "metadata": {
        "id": "gi8DGbDND-YU",
        "colab_type": "code",
        "colab": {}
      },
      "source": [
        "# note that you can set `label = TRUE` or use the LabelClusters function to help label\n",
        "# individual clusters\n",
        "DimPlot(pbmc, reduction = \"umap\")"
      ],
      "execution_count": 0,
      "outputs": []
    },
    {
      "cell_type": "markdown",
      "metadata": {
        "id": "2IDNj_FHEGdz",
        "colab_type": "text"
      },
      "source": [
        "You can save the object at this point so that it can easily be loaded back in without having to rerun the computationally intensive steps performed above, or easily shared with collaborators"
      ]
    },
    {
      "cell_type": "code",
      "metadata": {
        "id": "fh-EA8H9D_sG",
        "colab_type": "code",
        "colab": {}
      },
      "source": [
        "saveRDS(pbmc, file = \"pbmc_tutorial.rds\")\n"
      ],
      "execution_count": 0,
      "outputs": []
    },
    {
      "cell_type": "markdown",
      "metadata": {
        "id": "NMk_c-IgENdL",
        "colab_type": "text"
      },
      "source": [
        "# Finding differentially expressed features (cluster biomarkers)\n",
        "Seurat can help you find markers that define clusters via differential expression. By default, it identifes positive and negative markers of a single cluster (specified in ident.1), compared to all other cells. FindAllMarkers automates this process for all clusters, but you can also test groups of clusters vs. each other, or against all cells.\n",
        "\n",
        "The min.pct argument requires a feature to be detected at a minimum percentage in either of the two groups of cells, and the thresh.test argument requires a feature to be differentially expressed (on average) by some amount between the two groups. You can set both of these to 0, but with a dramatic increase in time - since this will test a large number of features that are unlikely to be highly discriminatory. As another option to speed up these computations, max.cells.per.ident can be set. This will downsample each identity class to have no more cells than whatever this is set to. While there is generally going to be a loss in power, the speed increases can be significiant and the most highly differentially expressed features will likely still rise to the top."
      ]
    },
    {
      "cell_type": "code",
      "metadata": {
        "id": "WMWynCNmEKpx",
        "colab_type": "code",
        "colab": {}
      },
      "source": [
        "# find all markers of cluster 1\n",
        "cluster1.markers <- FindMarkers(pbmc, ident.1 = 1, min.pct = 0.25)\n",
        "head(cluster1.markers, n = 5)"
      ],
      "execution_count": 0,
      "outputs": []
    },
    {
      "cell_type": "code",
      "metadata": {
        "id": "r5xIpP_1EREU",
        "colab_type": "code",
        "colab": {}
      },
      "source": [
        "# find all markers distinguishing cluster 5 from clusters 0 and 3\n",
        "cluster5.markers <- FindMarkers(pbmc, ident.1 = 5, ident.2 = c(0, 3), min.pct = 0.25)\n",
        "head(cluster5.markers, n = 5)"
      ],
      "execution_count": 0,
      "outputs": []
    },
    {
      "cell_type": "code",
      "metadata": {
        "id": "KZXrAoFoESp9",
        "colab_type": "code",
        "colab": {}
      },
      "source": [
        "# find markers for every cluster compared to all remaining cells, report only the positive ones\n",
        "pbmc.markers <- FindAllMarkers(pbmc, only.pos = TRUE, min.pct = 0.25, logfc.threshold = 0.25)\n",
        "pbmc.markers %>% group_by(cluster) %>% top_n(n = 2, wt = avg_logFC)"
      ],
      "execution_count": 0,
      "outputs": []
    },
    {
      "cell_type": "markdown",
      "metadata": {
        "id": "KrPjfVN7EV19",
        "colab_type": "text"
      },
      "source": [
        "Seurat has several tests for differential expression which can be set with the test.use parameter (see our DE vignette for details). For example, the ROC test returns the ‘classification power’ for any individual marker (ranging from 0 - random, to 1 - perfect)."
      ]
    },
    {
      "cell_type": "code",
      "metadata": {
        "id": "lbyCyUSVET9p",
        "colab_type": "code",
        "colab": {}
      },
      "source": [
        "cluster1.markers <- FindMarkers(pbmc, ident.1 = 0, logfc.threshold = 0.25, test.use = \"roc\", only.pos = TRUE)\n"
      ],
      "execution_count": 0,
      "outputs": []
    },
    {
      "cell_type": "markdown",
      "metadata": {
        "id": "rWex3zu4EZsn",
        "colab_type": "text"
      },
      "source": [
        "We include several tools for visualizing marker expression. VlnPlot (shows expression probability distributions across clusters), and FeaturePlot (visualizes feature expression on a tSNE or PCA plot) are our most commonly used visualizations. We also suggest exploring RidgePlot, CellScatter, and DotPlot as additional methods to view your dataset.\n",
        "\n"
      ]
    },
    {
      "cell_type": "code",
      "metadata": {
        "id": "1h4g-70vEX5-",
        "colab_type": "code",
        "colab": {}
      },
      "source": [
        "VlnPlot(pbmc, features = c(\"MS4A1\", \"CD79A\"))\n"
      ],
      "execution_count": 0,
      "outputs": []
    },
    {
      "cell_type": "code",
      "metadata": {
        "id": "OwVDk-ZcEbm8",
        "colab_type": "code",
        "colab": {}
      },
      "source": [
        "# you can plot raw counts as well\n",
        "VlnPlot(pbmc, features = c(\"NKG7\", \"PF4\"), slot = \"counts\", log = TRUE)\n"
      ],
      "execution_count": 0,
      "outputs": []
    },
    {
      "cell_type": "code",
      "metadata": {
        "id": "7Kqkt6j9EdQr",
        "colab_type": "code",
        "colab": {}
      },
      "source": [
        "FeaturePlot(pbmc, features = c(\"MS4A1\", \"GNLY\", \"CD3E\", \"CD14\", \"FCER1A\", \"FCGR3A\", \"LYZ\", \"PPBP\", \n",
        "    \"CD8A\"))"
      ],
      "execution_count": 0,
      "outputs": []
    },
    {
      "cell_type": "markdown",
      "metadata": {
        "id": "Q0HC0lrIEg9t",
        "colab_type": "text"
      },
      "source": [
        "DoHeatmap generates an expression heatmap for given cells and features. In this case, we are plotting the top 20 markers (or all markers if less than 20) for each cluster."
      ]
    },
    {
      "cell_type": "code",
      "metadata": {
        "id": "_m2zTTltEexa",
        "colab_type": "code",
        "colab": {}
      },
      "source": [
        "top10 <- pbmc.markers %>% group_by(cluster) %>% top_n(n = 10, wt = avg_logFC)\n",
        "DoHeatmap(pbmc, features = top10$gene) + NoLegend()"
      ],
      "execution_count": 0,
      "outputs": []
    },
    {
      "cell_type": "markdown",
      "metadata": {
        "id": "EtTVn6VKEkYy",
        "colab_type": "text"
      },
      "source": [
        "Assigning cell type identity to clusters\n",
        "Fortunately in the case of this dataset, we can use canonical markers to easily match the unbiased clustering to known cell types:"
      ]
    },
    {
      "cell_type": "code",
      "metadata": {
        "id": "PzZh6YvIEirp",
        "colab_type": "code",
        "colab": {}
      },
      "source": [
        "new.cluster.ids <- c(\"Naive CD4 T\", \"Memory CD4 T\", \"CD14+ Mono\", \"B\", \"CD8 T\", \"FCGR3A+ Mono\", \n",
        "    \"NK\", \"DC\", \"Platelet\")\n",
        "names(new.cluster.ids) <- levels(pbmc)\n",
        "pbmc <- RenameIdents(pbmc, new.cluster.ids)\n",
        "DimPlot(pbmc, reduction = \"umap\", label = TRUE, pt.size = 0.5) + NoLegend()"
      ],
      "execution_count": 0,
      "outputs": []
    },
    {
      "cell_type": "code",
      "metadata": {
        "id": "3K5drvTpEm7y",
        "colab_type": "code",
        "colab": {}
      },
      "source": [
        "saveRDS(pbmc, file = \"pbmc3k_final.rds\")\n"
      ],
      "execution_count": 0,
      "outputs": []
    },
    {
      "cell_type": "code",
      "metadata": {
        "id": "CXlovbPWEqEz",
        "colab_type": "code",
        "colab": {}
      },
      "source": [
        "system(\"date\", intern=TRUE)"
      ],
      "execution_count": 0,
      "outputs": []
    },
    {
      "cell_type": "code",
      "metadata": {
        "id": "9drgd_f7FdbB",
        "colab_type": "code",
        "colab": {}
      },
      "source": [
        ""
      ],
      "execution_count": 0,
      "outputs": []
    }
  ]
}