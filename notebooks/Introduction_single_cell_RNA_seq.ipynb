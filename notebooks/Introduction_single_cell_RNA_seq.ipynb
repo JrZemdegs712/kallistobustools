{
  "nbformat": 4,
  "nbformat_minor": 0,
  "metadata": {
    "colab": {
      "name": "Introduction_single-cell_RNA-seq.ipynb",
      "provenance": [],
      "toc_visible": true,
      "authorship_tag": "ABX9TyMiN2PLlaQgb1eMgZPl5Qzn",
      "include_colab_link": true
    },
    "kernelspec": {
      "name": "python3",
      "display_name": "Python 3"
    }
  },
  "cells": [
    {
      "cell_type": "markdown",
      "metadata": {
        "id": "view-in-github",
        "colab_type": "text"
      },
      "source": [
        "<a href=\"https://colab.research.google.com/github/pachterlab/kallistobustools/blob/master/notebooks/Introduction_single_cell_RNA_seq.ipynb\" target=\"_parent\"><img src=\"https://colab.research.google.com/assets/colab-badge.svg\" alt=\"Open In Colab\"/></a>"
      ]
    },
    {
      "cell_type": "markdown",
      "metadata": {
        "id": "a-eRv9kSISgz",
        "colab_type": "text"
      },
      "source": [
        "# An introduction to single-cell RNA-seq\n",
        "\n",
        "### Based on material taught in Caltech course Bi/BE/CS18 by Lior Pachter and Matt Thomson, with contributions from Sina Booeshaghi, Lambda Lu, Jialong Jiang, Eduardo Beltrame, Jase Gehring and Valentine Svensson.  "
      ]
    },
    {
      "cell_type": "markdown",
      "metadata": {
        "id": "3QavWOXvopRl",
        "colab_type": "text"
      },
      "source": [
        "The rapid development of single-cell genomics methods starting in 2009 has created unprecedented opportunity for highly resolved measurements of cellular states. Among such methods, single-cell RNA-seq (scRNA-seq) is having a profound impact on biology. Here we introduce some of the key concepts of single-cell RNA-seq technologies, with a focus on droplet based methods."
      ]
    },
    {
      "cell_type": "markdown",
      "metadata": {
        "id": "dkRGcW-wGqHd",
        "colab_type": "text"
      },
      "source": [
        "## Setup"
      ]
    },
    {
      "cell_type": "markdown",
      "metadata": {
        "id": "FiBr3LBHpbM0",
        "colab_type": "text"
      },
      "source": [
        "This notebook is a \"living document\". It downloads data and performs computations. As such it requires the installation of some python packages, which are installed with the commands below. In addition to running on Google Colab, the notebook can be downloaded and run locally on any machine which has python3 installed."
      ]
    },
    {
      "cell_type": "code",
      "metadata": {
        "id": "eGxol-mbHc8f",
        "colab_type": "code",
        "cellView": "form",
        "colab": {}
      },
      "source": [
        "#@title Install packages\n",
        "%%capture\n",
        "!pip install matplotlib\n",
        "!pip install scikit-learn\n",
        "!pip install numpy\n",
        "!pip install scipy\n",
        "import numpy as np\n",
        "import matplotlib.cm as cm\n",
        "import matplotlib.pyplot as plt\n",
        "import matplotlib.colors as mplcol\n",
        "import matplotlib.font_manager\n",
        "import pandas as pd\n",
        "import io\n",
        "from IPython.display import HTML\n",
        "from mizani.breaks import date_breaks\n",
        "from mizani.formatters import date_format\n",
        "# Only pandas >= v0.25.0 supports column names with spaces in querys\n",
        "import plotnine as p\n",
        "import requests\n",
        "import warnings\n",
        "import colorsys\n",
        "warnings.filterwarnings(\"ignore\")  # plotnine has a lot of MatplotlibDeprecationWarning's\n",
        "import seaborn as sns\n",
        "sns.set_context(\"notebook\", font_scale=1.5, rc={\"lines.linewidth\": 2.5})"
      ],
      "execution_count": 0,
      "outputs": []
    },
    {
      "cell_type": "markdown",
      "metadata": {
        "id": "Is99Ot4xGlgl",
        "colab_type": "text"
      },
      "source": [
        "## Motivation"
      ]
    },
    {
      "cell_type": "markdown",
      "metadata": {
        "id": "wdO6InfgIeHi",
        "colab_type": "text"
      },
      "source": [
        "The goal of single-cell transcriptomics is to measure the transcriptional states of large numbers of cells simultaneously. The input to a scRNA-seq method is a collection of cells, possibly from intact tissue, or in dissociated form. Formally, the desired output is a *genes x cells*  matrix that describes, for each cell, the abundance of its constituent transcripts. More generally, single-cell genomics methods seek to measure not just transcriptional state, but other modalities in cells, e.g. protein abundances, epigenetic states, cellular morphology, etc.\n",
        "\n",
        "The ideal single-cell technology should thus:\n",
        "\n",
        "- Be ***universal*** in terms of cell size, type and state.\n",
        "- Perform ***in situ*** measurements.\n",
        "- Have no ***minimum input*** requirements.\n",
        "- Assay every cell, i.e. have a 100% ***capture rate***.\n",
        "- Detect every transcript in every cell, i.e. have 100% ***sensitivity***.\n",
        "- Identify individual transcripts by their ***full-length sequence***.\n",
        "- Assign transcripts correctly to cells, e.g. no ***doublets***.\n",
        "- Be compatible with additional ***multimodal measurements***.\n",
        "- Be ***cost effective*** per cell.\n",
        "- Be ***easy to use***.\n",
        "- Be ***open source*** so that it is transparent, and results from it reproducible."
      ]
    },
    {
      "cell_type": "markdown",
      "metadata": {
        "id": "G870xfWmrO-N",
        "colab_type": "text"
      },
      "source": [
        "There is no method satisfying all of these requirements, however progress has been rapid. The development of single-cell RNA-seq technologies and their adoption by biologists, has been remarkable. [Svensson et al. 2019](https://www.biorxiv.org/content/10.1101/742304v2) describes a database of articles which describe single-cell RNA-seq experiments, and the graph below, rendered from the [current version of the database](https://docs.google.com/spreadsheets/d/1En7-UV0k0laDiIfjFkdn7dggyR7jIk3WH8QgXaMOZF0/edit#gid=0), makes clear the exponential growth in single-cell transcriptomics:"
      ]
    },
    {
      "cell_type": "code",
      "metadata": {
        "id": "BgUXVOgAOPbV",
        "colab_type": "code",
        "cellView": "form",
        "outputId": "bbecdcba-64c9-466a-c1a9-fbd964590e51",
        "colab": {
          "base_uri": "https://localhost:8080/",
          "height": 262
        }
      },
      "source": [
        "#@title Growth of single-cell RNA-seq\n",
        "df = pd.read_csv('http://nxn.se/single-cell-studies/data.tsv', sep='\\t')\n",
        "# converts string to date format, can only be run once!\n",
        "df['Date'] = pd.to_datetime(df['Date'], format='%Y%m%d')\n",
        "\n",
        "# converts string of reported cells total to float, can only be run once!\n",
        "df['Reported cells total'] = df['Reported cells total'].str.replace(',', '').map(float)\n",
        "\n",
        "# plot number of studies over time\n",
        "p.options.figure_size = (9, 2)\n",
        "fig = (\n",
        "    p.ggplot(p.aes(x='Date', y='DOI'), data=df.resample('1M', on='Date').count()[['DOI']].reset_index())\n",
        "    + p.geom_bar(stat='identity')\n",
        "    + p.theme_minimal(base_family='DejaVu Sans')\n",
        "    + p.scale_x_datetime(breaks=date_breaks('1 years'), labels=date_format('%Y'))\n",
        "    + p.labs(y='Number of studies')\n",
        ")\n",
        "print(fig)"
      ],
      "execution_count": 83,
      "outputs": [
        {
          "output_type": "display_data",
          "data": {
            "image/png": "[encoded data removed]",
            "text/plain": [
              "<Figure size 900x200 with 1 Axes>"
            ]
          },
          "metadata": {
            "tags": []
          }
        },
        {
          "output_type": "stream",
          "text": [
            "<ggplot: (8785989457784)>\n"
          ],
          "name": "stdout"
        }
      ]
    },
    {
      "cell_type": "markdown",
      "metadata": {
        "id": "635a5WEKsPxq",
        "colab_type": "text"
      },
      "source": [
        "There are many different scRNA-seq technologies in use and under development, but broadly they fall into a few main categories: well-based methods, droplet-based methods, and spatial transcriptomics approaches. At the time of initial writing of this document (2019), droplet-based approaches have become popular due to their relative low-cost, easy of use, and scalability. This is evident in a breakdown of articles by technology used: "
      ]
    },
    {
      "cell_type": "code",
      "metadata": {
        "id": "0M7wjAq7PaKK",
        "colab_type": "code",
        "cellView": "form",
        "outputId": "879cbf89-618f-43d3-b2f9-52d0e98408ef",
        "colab": {
          "base_uri": "https://localhost:8080/",
          "height": 286
        }
      },
      "source": [
        "#@title Technologies used\n",
        "def tidy_split(df, column, sep='|', keep=False):\n",
        "\n",
        "    indexes = list()\n",
        "    new_values = list()\n",
        "    df = df.dropna(subset=[column])\n",
        "    for i, presplit in enumerate(df[column].astype(str)):\n",
        "        values = presplit.split(sep)\n",
        "        if keep and len(values) > 1:\n",
        "            indexes.append(i)\n",
        "            new_values.append(presplit)\n",
        "        for value in values:\n",
        "            indexes.append(i)\n",
        "            new_values.append(value)\n",
        "    new_df = df.iloc[indexes, :].copy()\n",
        "    new_df[column] = new_values\n",
        "    \n",
        "    return new_df\n",
        "\n",
        "ts = pd.Timestamp\n",
        "\n",
        "tdf = tidy_split(df, 'Technique', ' & ')\n",
        "t_dict = {k: k for k in tdf['Technique'].value_counts().head(5).index}\n",
        "tdf['Technique'] = tdf['Technique'].map(lambda s: t_dict.get(s, 'Other'))\n",
        "techs = list(\n",
        "    tdf['Technique']\n",
        "    .value_counts()\n",
        "    .sort_index()\n",
        "    .index\n",
        "    .difference(['Other'])\n",
        ")\n",
        "techs.append('Other')\n",
        "tdf['Technique'] = (\n",
        "    pd.Categorical(\n",
        "       tdf['Technique'],\n",
        "        categories=techs,\n",
        "        ordered=True\n",
        "    )\n",
        ")\n",
        "\n",
        "def desaturate(color, prop):\n",
        "    \n",
        "    # Check inputs\n",
        "#     if not 0 <= prop <= 1:\n",
        "#         raise ValueError(\"prop must be between 0 and 1\")\n",
        "\n",
        "    # Get rgb tuple rep\n",
        "    rgb = mplcol.colorConverter.to_rgb(color)\n",
        "\n",
        "    # Convert to hls\n",
        "    h, l, s = colorsys.rgb_to_hls(*rgb)\n",
        "\n",
        "    # Desaturate the saturation channel\n",
        "#     l *= prop\n",
        "    l = 0.8\n",
        "\n",
        "    # Convert back to rgb\n",
        "    new_color = colorsys.hls_to_rgb(h, l, s)\n",
        "    \n",
        "    hex_color = '#{:02x}{:02x}{:02x}'.format(*map(lambda c: int(c * 255), new_color))\n",
        "\n",
        "    return hex_color\n",
        "\n",
        "    # lighten matplotlib default colors\n",
        "clrs = list(map(lambda c: desaturate(c, 1.2), ['C0', 'C1', 'C2', 'C3', 'C4', 'black']))\n",
        "\n",
        "#### Plot number of studies per month by technique\n",
        "per_month = (\n",
        "    tdf\n",
        "    .groupby('Technique')\n",
        "    .resample('1M', on='Date')\n",
        "    .count()['DOI']\n",
        "    .reset_index()\n",
        ")\n",
        "\n",
        "p.options.figure_size = (9, 2)\n",
        "fig = (\n",
        "    p.ggplot(\n",
        "        p.aes(x='Date', y='DOI', fill='Technique'),\n",
        "        data=per_month.query('Date > @ts(\"20130101T010101\")')\n",
        "    )\n",
        "    + p.geom_bar(stat='identity', color='grey')\n",
        "    + p.theme_minimal(base_family='DejaVu Sans')\n",
        "    + p.scale_x_datetime(\n",
        "        breaks=date_breaks('1 years'),\n",
        "        labels=date_format('%Y')\n",
        "    )\n",
        "    + p.labs(y='Number of studies')\n",
        "    + p.scale_fill_manual(clrs)\n",
        ")\n",
        "fig"
      ],
      "execution_count": 84,
      "outputs": [
        {
          "output_type": "display_data",
          "data": {
            "image/png": "[encoded data removed]",
            "text/plain": [
              "<Figure size 900x200 with 1 Axes>"
            ]
          },
          "metadata": {
            "tags": []
          }
        },
        {
          "output_type": "execute_result",
          "data": {
            "text/plain": [
              "<ggplot: (-9223363250864975111)>"
            ]
          },
          "metadata": {
            "tags": []
          },
          "execution_count": 84
        }
      ]
    },
    {
      "cell_type": "markdown",
      "metadata": {
        "id": "t0yOrA0lcZ3m",
        "colab_type": "text"
      },
      "source": [
        "We therefore restrict this introduction to single-cell RNA-seq to droplet-based technologies."
      ]
    },
    {
      "cell_type": "markdown",
      "metadata": {
        "id": "orVyX2Sms1r2",
        "colab_type": "text"
      },
      "source": [
        "## Droplet-based methods\n",
        "\n",
        "Droplet based single-cell RNA-seq methods were popularized by a pair of papers published concurrently in 2015: \n",
        "- Macosko et al., [Highly parallel genome-wide expression profiling of individual cells using nanoliter droplets](https://www.cell.com/fulltext/S0092-8674(15)00549-8), 2015. DOI:10.1016/j.cell.2015.05.002 - describes Drop-seq.\n",
        "- Klein et al., [Droplet barcoding for single-cell transcriptomics applied to embryonic stem cells](https://www.cell.com/cell/fulltext/S0092-8674(15)00500-0), 2015. DOI:10.1016/j.cell.2015.04.044 - descibes inDrops.\n",
        "\n",
        "Both of the methods makes use of developments in microfluidics published in:\n",
        "- Song, Chen, Ismagilov, [Reactions in droplets in microfluidic channels](https://onlinelibrary.wiley.com/doi/10.1002/anie.200601554), 2006. DOI:10.1002/anie.200601554\n",
        "- Guo, Rotem, Heyman and Weitz, [Droplet microfluidics for high-throughput biological assays](https://pubs.rsc.org/en/content/articlelanding/2012/lc/c2lc21147e#!divAbstract), 2012. DOI:10.1039/C2LC21147E"
      ]
    },
    {
      "cell_type": "markdown",
      "metadata": {
        "id": "Admx-IUOihd5",
        "colab_type": "text"
      },
      "source": [
        "### Overview\n",
        "An overview of how a droplet based scRNA-seq method works is illustrated in a figure from the Drop-seq [Macosko et al. 2015](https://www.cell.com/fulltext/S0092-8674(15)00549-8) paper:\n",
        "\n",
        "![Droplet scRNA-seq](https://ars.els-cdn.com/content/image/1-s2.0-S0092867415005498-fx1.jpg)\n",
        "\n",
        "A microfluidic device is used to generate an emulsion, which consists of aqueous droplets in oil. The droplets are used to encapsulate cells, beads and reagents. In other words, each droplet is a \"mini laboratory\" in which the RNA from a single-cell can be captured and prepared for identification. Thus, the consistuent parts are as follows:\n",
        "\n",
        "- an emulsion (white circles containing beads and cells on the right hand-side of the figure). \n",
        "- dissociated cells (depicted as odd-shaped colored objects in the figure).\n",
        "- beads (flowing in from the left hand side of the figure).\n"
      ]
    },
    {
      "cell_type": "markdown",
      "metadata": {
        "id": "a2MjWRbTyC64",
        "colab_type": "text"
      },
      "source": [
        "### Emulsions\n",
        "The foundation of droplet based single-cell RNA-seq methods are *mono-dispersed emulsions*. Mono-dispersed refers to the requirements that droplets are of (near) uniform size. Mono-dispersed emulsions can be generated with a microfluidic device, as shown below. The droplets are being \"pinched off\" at the junction, and one can see a polystyrene bead being captured in one droplet, while others are empty.\n",
        "\n",
        "![alt text](http://mccarrolllab.org/wp-content/uploads/2015/05/Substack-4455-4504.gif)\n",
        "\n",
        "The movie is from the [McCarolll Drop-seq tutorial](http://mccarrolllab.org/dropseq/) courtesy of Patrick Stumpf, Matthew Rose-Zerilli, Rosanna Smith, Martin Fischlechner & Jonathan West at the Centre for Hybrid Biodevices & Cancer Sciences Unit at the University of Southampton.\n"
      ]
    },
    {
      "cell_type": "markdown",
      "metadata": {
        "id": "zl3Lg2-GmAcO",
        "colab_type": "text"
      },
      "source": [
        "### Beads\n",
        "![alt text](https://els-jbs-prod-cdn.literatumonline.com/cms/attachment/5bf7541c-af0d-4a13-a806-c014bee07359/gr2.jpg)\n",
        "[From inDrop]\n",
        "\n",
        "The figure above shows the procedure used to make hydrogel beads for inDrops. Every bead contains the same barcode sequence, while the barcode sequences on two different beads are distinct. \n",
        "\n",
        "The barcode and UMI structure for a variety of technologies is viewable in a [compilation](https://teichlab.github.io/scg_lib_structs/) by Xi Chen."
      ]
    },
    {
      "cell_type": "markdown",
      "metadata": {
        "id": "0DuvNIYWnX0h",
        "colab_type": "text"
      },
      "source": [
        "### Cell suspensions\n",
        "\n",
        "In order to assay the transcriptomes of individual cells with droplet-based single-cell RNA-seq technologies, it is necessary to first dissociate the cells."
      ]
    },
    {
      "cell_type": "markdown",
      "metadata": {
        "id": "w4e42XFNnitJ",
        "colab_type": "text"
      },
      "source": [
        "## Statistics of beads & cells in droplets"
      ]
    },
    {
      "cell_type": "markdown",
      "metadata": {
        "id": "XUlfCNWEnwGb",
        "colab_type": "text"
      },
      "source": [
        "### The binomial distribution\n",
        "\n",
        "An understanding of droplet-based single-cell RNA-seq requires consideration of the statistics describing the capture of cells and beads in droplets. \n",
        "\n",
        "Suppose that in an experiment multiple droplets have been formed, and focusing on one of the droplets. Assume that the probability that any of $n$ cells were captured inside it is $p$. We can calculate the probability that $k$ cells have been captured in the droplet as follows:\n",
        "\n",
        "$P$ (droplet contains k cells) = $\\binom{n}{k}p^k(1-p)^{n-k}$. The expected number of cells in the droplet is $\\lambda := \\sum_{k=0}^n k \\binom{n}{k}p^k(1-p)^{n-k} = n \\cdot p$. We can plot this distribution, which is called the binomial distribution, say for $p=0.02$ and $n=10$:"
      ]
    },
    {
      "cell_type": "code",
      "metadata": {
        "id": "60yOhEjjEt5L",
        "colab_type": "code",
        "outputId": "4ea6728a-43b5-4780-a3f2-05703d373e42",
        "colab": {
          "base_uri": "https://localhost:8080/",
          "height": 293
        }
      },
      "source": [
        "sns.barplot(x=np.arange(10), y=binom.pmf(np.arange(10),10,0.02), color='r')"
      ],
      "execution_count": 85,
      "outputs": [
        {
          "output_type": "execute_result",
          "data": {
            "text/plain": [
              "<matplotlib.axes._subplots.AxesSubplot at 0x7fda5c4e8470>"
            ]
          },
          "metadata": {
            "tags": []
          },
          "execution_count": 85
        },
        {
          "output_type": "display_data",
          "data": {
            "image/png": "[encoded data removed]",
            "text/plain": [
              "<Figure size 432x288 with 1 Axes>"
            ]
          },
          "metadata": {
            "tags": []
          }
        }
      ]
    },
    {
      "cell_type": "markdown",
      "metadata": {
        "id": "NB6l2QKkD7CN",
        "colab_type": "text"
      },
      "source": [
        "Evidently, it's quite probable that the droplet is empty, possible that it contains one cell, and unlikely that it has 2 or more. This is a good regime for a single-cell experiment; we will see that it is problematic if two cells are captured in a single droplet. Empty droplets are not problematic in the sense that they will not lead to data, and can therefore be ignored."
      ]
    },
    {
      "cell_type": "markdown",
      "metadata": {
        "id": "YV9gs9pVnz3v",
        "colab_type": "text"
      },
      "source": [
        "### The Poisson distribution"
      ]
    },
    {
      "cell_type": "code",
      "metadata": {
        "id": "7_Bz9jWwFifo",
        "colab_type": "code",
        "colab": {}
      },
      "source": [
        "from scipy.stats import poisson"
      ],
      "execution_count": 0,
      "outputs": []
    },
    {
      "cell_type": "code",
      "metadata": {
        "id": "1S6lZC1vEwEp",
        "colab_type": "code",
        "outputId": "caf4c74f-0c16-404a-c5fd-90b5fcc23c71",
        "colab": {
          "base_uri": "https://localhost:8080/",
          "height": 293
        },
        "cellView": "both"
      },
      "source": [
        "sns.barplot(x=np.arange(10), y=poisson.pmf(np.arange(10),0.2), color='r')"
      ],
      "execution_count": 87,
      "outputs": [
        {
          "output_type": "execute_result",
          "data": {
            "text/plain": [
              "<matplotlib.axes._subplots.AxesSubplot at 0x7fda5c279d68>"
            ]
          },
          "metadata": {
            "tags": []
          },
          "execution_count": 87
        },
        {
          "output_type": "display_data",
          "data": {
            "image/png": "[encoded data removed]",
            "text/plain": [
              "<Figure size 432x288 with 1 Axes>"
            ]
          },
          "metadata": {
            "tags": []
          }
        }
      ]
    },
    {
      "cell_type": "markdown",
      "metadata": {
        "id": "aqFb3KJXEd0B",
        "colab_type": "text"
      },
      "source": [
        "We therefore posit that the probability that a droplet contains $k$ cells is $\\frac{e^{-\\lambda}\\lambda^k}{k!}$ and  the probability that a droplet contains $j$ beads is $\\frac{e^{-\\mu}\\mu^j}{j!}$."
      ]
    },
    {
      "cell_type": "markdown",
      "metadata": {
        "id": "24KZTXzjBjms",
        "colab_type": "text"
      },
      "source": [
        "## Droplet tuning"
      ]
    },
    {
      "cell_type": "markdown",
      "metadata": {
        "id": "9kyEiovXBp7y",
        "colab_type": "text"
      },
      "source": [
        "### Cell capture and duplication rates\n",
        "\n",
        "The cell capture rate is the probability that a droplet has at least one bead, and is given by $1-e^{-\\mu}$.\n",
        "\n",
        "The cell duplication rate is the rate at which captured single cells are associated with two or more different barcodes, which is equal to $\\frac{1-e^{-\\mu}-\\mu e^{-\\mu}}{1-e^{-\\mu}}$. \n",
        "\n",
        "This leads to a tradeoff\n"
      ]
    },
    {
      "cell_type": "code",
      "metadata": {
        "id": "hH9_sNPGHPub",
        "colab_type": "code",
        "colab": {
          "base_uri": "https://localhost:8080/",
          "height": 297
        },
        "outputId": "90d476c1-3504-4fc4-862a-aa48a8f4e6f0"
      },
      "source": [
        "plt.plot([1, 2, 3, 4])\n",
        "plt.xlabel('Capture rate')\n",
        "plt.ylabel('Duplication rate')\n",
        "plt.show()"
      ],
      "execution_count": 88,
      "outputs": [
        {
          "output_type": "display_data",
          "data": {
            "image/png": "[encoded data removed]",
            "text/plain": [
              "<Figure size 432x288 with 1 Axes>"
            ]
          },
          "metadata": {
            "tags": []
          }
        }
      ]
    },
    {
      "cell_type": "markdown",
      "metadata": {
        "id": "Rbk3eSzdB7YT",
        "colab_type": "text"
      },
      "source": [
        "### Sub-Poisson loading\n",
        "\n",
        "https://liorpachter.wordpress.com/tag/hydrogel-beads/\n",
        "\n",
        "https://www.youtube.com/watch?time_continue=19&v=usK71SG30t0&feature=emb_logo\n",
        "\n",
        "https://www.youtube.com/watch?time_continue=9&v=2q1Lt9DWmRQ&feature=emb_logo\n",
        "\n",
        " Property | Drop-seq | inDrops | 10x genomics \n",
        "---| --- | --- |--- \n",
        "Bead material | Polystyrene | Hydrogel | Hydrogel\n",
        "Loading dynamics | Poisson | sub-Poisson | sub-Poisson\n",
        "Dissolvable | No | No | Yes\n",
        "Barcode release | No | UV release | Chemical release\n",
        "Customizable | Demonstrated | Not shown | Feasible\n",
        "Licensing | Open source | Open Source | Proprietary\n",
        "Availability | Beads are sold | Commercial | Commercial\n",
        "\n"
      ]
    },
    {
      "cell_type": "code",
      "metadata": {
        "id": "spD7H27UGrOI",
        "colab_type": "code",
        "colab": {
          "base_uri": "https://localhost:8080/",
          "height": 407
        },
        "outputId": "e766cd4d-1103-4043-848c-2b2bae44dbb3"
      },
      "source": [
        "#@title \n",
        "HTML('<iframe width=\"688\" height=\"387\" src=\"https://www.youtube.com/embed/usK71SG30t0\" frameborder=\"0\" allow=\"accelerometer; autoplay; encrypted-media; gyroscope; picture-in-picture\" allowfullscreen></iframe>')"
      ],
      "execution_count": 89,
      "outputs": [
        {
          "output_type": "execute_result",
          "data": {
            "text/html": [
              "<iframe width=\"688\" height=\"387\" src=\"https://www.youtube.com/embed/usK71SG30t0\" frameborder=\"0\" allow=\"accelerometer; autoplay; encrypted-media; gyroscope; picture-in-picture\" allowfullscreen></iframe>"
            ],
            "text/plain": [
              "<IPython.core.display.HTML object>"
            ]
          },
          "metadata": {
            "tags": []
          },
          "execution_count": 89
        }
      ]
    },
    {
      "cell_type": "code",
      "metadata": {
        "id": "6VcOiEMvHQ8e",
        "colab_type": "code",
        "colab": {
          "base_uri": "https://localhost:8080/",
          "height": 335
        },
        "outputId": "29a23a23-4ffd-4c94-9192-f461ff8568b2"
      },
      "source": [
        "#@title \n",
        "HTML('<iframe width=\"560\" height=\"315\" src=\"https://www.youtube.com/embed/2q1Lt9DWmRQ\" frameborder=\"0\" allow=\"accelerometer; autoplay; encrypted-media; gyroscope; picture-in-picture\" allowfullscreen></iframe>')"
      ],
      "execution_count": 90,
      "outputs": [
        {
          "output_type": "execute_result",
          "data": {
            "text/html": [
              "<iframe width=\"560\" height=\"315\" src=\"https://www.youtube.com/embed/2q1Lt9DWmRQ\" frameborder=\"0\" allow=\"accelerometer; autoplay; encrypted-media; gyroscope; picture-in-picture\" allowfullscreen></iframe>"
            ],
            "text/plain": [
              "<IPython.core.display.HTML object>"
            ]
          },
          "metadata": {
            "tags": []
          },
          "execution_count": 90
        }
      ]
    },
    {
      "cell_type": "markdown",
      "metadata": {
        "id": "6giT7bPVDWfd",
        "colab_type": "text"
      },
      "source": [
        "### Barcode collisions\n"
      ]
    },
    {
      "cell_type": "markdown",
      "metadata": {
        "id": "NJhCCxyrDY0B",
        "colab_type": "text"
      },
      "source": [
        "### Barcode diversity and barcode length"
      ]
    },
    {
      "cell_type": "markdown",
      "metadata": {
        "id": "79fq83bMDcop",
        "colab_type": "text"
      },
      "source": [
        "### Technical doublets"
      ]
    },
    {
      "cell_type": "markdown",
      "metadata": {
        "id": "9G44HtjhDfCI",
        "colab_type": "text"
      },
      "source": [
        " Doublet detection\n",
        "The barnyard plot\n"
      ]
    },
    {
      "cell_type": "markdown",
      "metadata": {
        "id": "Do436tT4Dl3H",
        "colab_type": "text"
      },
      "source": [
        "Bloom's correction"
      ]
    },
    {
      "cell_type": "markdown",
      "metadata": {
        "id": "5s-AOvBWCEZu",
        "colab_type": "text"
      },
      "source": [
        "### Biological doublets"
      ]
    },
    {
      "cell_type": "markdown",
      "metadata": {
        "id": "O6WeiAjdDyFs",
        "colab_type": "text"
      },
      "source": [
        "### Unique Molecular Identifiers\n",
        "\n"
      ]
    },
    {
      "cell_type": "markdown",
      "metadata": {
        "id": "sTJGeUT9D6ui",
        "colab_type": "text"
      },
      "source": [
        "## Sensitivity"
      ]
    },
    {
      "cell_type": "markdown",
      "metadata": {
        "id": "tl2PVIfAEFj8",
        "colab_type": "text"
      },
      "source": [
        "## Summary\n",
        "![alt text](https://ars.els-cdn.com/content/image/1-s2.0-S1097276518308803-gr1.jpg)\n",
        "From Zhang et al. 2019. DOI:10.1016/j.molcel.2018.10.020\n"
      ]
    }
  ]
}