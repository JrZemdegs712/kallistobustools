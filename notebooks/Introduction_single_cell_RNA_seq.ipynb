{
  "nbformat": 4,
  "nbformat_minor": 0,
  "metadata": {
    "colab": {
      "name": "Introduction_single-cell_RNA-seq.ipynb",
      "provenance": [],
      "toc_visible": true,
      "authorship_tag": "ABX9TyOE7CMdc4vk3UaIM6h/YccV",
      "include_colab_link": true
    },
    "kernelspec": {
      "name": "python3",
      "display_name": "Python 3"
    }
  },
  "cells": [
    {
      "cell_type": "markdown",
      "metadata": {
        "id": "view-in-github",
        "colab_type": "text"
      },
      "source": [
        "<a href=\"https://colab.research.google.com/github/pachterlab/kallistobustools/blob/master/notebooks/Introduction_single_cell_RNA_seq.ipynb\" target=\"_parent\"><img src=\"https://colab.research.google.com/assets/colab-badge.svg\" alt=\"Open In Colab\"/></a>"
      ]
    },
    {
      "cell_type": "markdown",
      "metadata": {
        "id": "a-eRv9kSISgz",
        "colab_type": "text"
      },
      "source": [
        "# An introduction to single-cell RNA-seq\n",
        "\n",
        "### Based on material taught in Caltech course Bi/BE/CS18 by Lior Pachter and Matt Thomson, with contributions from Sina Booeshaghi, Lambda Lu, Jialong Jiang, Eduardo Beltrame, Jase Gehring and Valentine Svensson.  "
      ]
    },
    {
      "cell_type": "markdown",
      "metadata": {
        "id": "3QavWOXvopRl",
        "colab_type": "text"
      },
      "source": [
        "The rapid development of single-cell genomics methods starting in 2009 has created unprecedented opportunity for highly resolved measurements of cellular states. Among such methods, single-cell RNA-seq (scRNA-seq) is having a profound impact on biology. Here we introduce some of the key concepts of single-cell RNA-seq technologies, with a focus on droplet based methods."
      ]
    },
    {
      "cell_type": "markdown",
      "metadata": {
        "id": "dkRGcW-wGqHd",
        "colab_type": "text"
      },
      "source": [
        "## Setup"
      ]
    },
    {
      "cell_type": "markdown",
      "metadata": {
        "id": "FiBr3LBHpbM0",
        "colab_type": "text"
      },
      "source": [
        "This notebook is a \"living document\". It downloads data and performs computations. As such it requires the installation of some python packages, which are installed with the commands below. In addition to running on Google Colab, the notebook can be downloaded and run locally on any machine which has python3 installed."
      ]
    },
    {
      "cell_type": "code",
      "metadata": {
        "id": "eGxol-mbHc8f",
        "colab_type": "code",
        "colab": {},
        "cellView": "form"
      },
      "source": [
        "#@title Install packages\n",
        "%%capture\n",
        "!pip install matplotlib\n",
        "!pip install scikit-learn\n",
        "!pip install numpy\n",
        "!pip install scipy\n",
        "import numpy as np\n",
        "import matplotlib.cm as cm\n",
        "import matplotlib.pyplot as plt\n",
        "import matplotlib.colors as mplcol\n",
        "import matplotlib.font_manager\n",
        "import pandas as pd\n",
        "from IPython.display import Math\n",
        "from IPython.display import Latex\n",
        "from IPython.display import display\n",
        "import io\n",
        "from mizani.breaks import date_breaks\n",
        "from mizani.formatters import date_format\n",
        "# Only pandas >= v0.25.0 supports column names with spaces in querys\n",
        "import plotnine as p\n",
        "import requests\n",
        "import warnings\n",
        "import colorsys\n",
        "warnings.filterwarnings(\"ignore\")  # plotnine has a lot of MatplotlibDeprecationWarning's\n",
        "import seaborn as sns\n",
        "sns.set_context(\"notebook\", font_scale=1.5, rc={\"lines.linewidth\": 2.5})"
      ],
      "execution_count": 0,
      "outputs": []
    },
    {
      "cell_type": "markdown",
      "metadata": {
        "id": "Is99Ot4xGlgl",
        "colab_type": "text"
      },
      "source": [
        "## Motivation"
      ]
    },
    {
      "cell_type": "markdown",
      "metadata": {
        "id": "wdO6InfgIeHi",
        "colab_type": "text"
      },
      "source": [
        "The goal of single-cell transcriptomics is to measure the transcriptional states of large numbers of cells simultaneously. The input to a scRNA-seq method is a collection of cells, possibly from intact tissue, or in dissociated form. Formally, the desired output is a *genes x cells*  matrix that describes, for each cell, the abundance of its constituent transcripts. More generally, single-cell genomics methods seek to measure not just transcriptional state, but other modalities in cells, e.g. protein abundances, epigenetic states, cellular morphology, etc.\n",
        "\n",
        "The ideal single-cell technology should thus:\n",
        "\n",
        "- Be ***universal*** in terms of cell size, type and state.\n",
        "- Perform ***in situ*** measurements.\n",
        "- Have no ***minimum input*** requirements.\n",
        "- Assay every cell, i.e. have a 100% ***capture rate***.\n",
        "- Detect every transcript in every cell, i.e. have 100% ***sensitivity***.\n",
        "- Identify individual transcripts by their ***full-length sequence***.\n",
        "- Assign transcripts correctly to cells, e.g. no ***doublets***.\n",
        "- Be compatible with additional ***multimodal measurements***.\n",
        "- Be ***cost effective*** per cell.\n",
        "- Be ***easy to use***.\n",
        "- Be ***open source*** so that it is transparent, and results from it reproducible."
      ]
    },
    {
      "cell_type": "markdown",
      "metadata": {
        "id": "G870xfWmrO-N",
        "colab_type": "text"
      },
      "source": [
        "There is no method satisfying all of these requirements, however progress has been rapid. The development of single-cell RNA-seq technologies and their adoption by biologists, has been remarkable. [Svensson et al. 2019](https://www.biorxiv.org/content/10.1101/742304v2) describes a database of articles which involve single-cell RNA-seq experiments, and the graph below, dynamically produced from the [current version of the database](https://docs.google.com/spreadsheets/d/1En7-UV0k0laDiIfjFkdn7dggyR7jIk3WH8QgXaMOZF0/edit#gid=0), makes clear the initial exponential growth in use of the assay:"
      ]
    },
    {
      "cell_type": "code",
      "metadata": {
        "id": "BgUXVOgAOPbV",
        "colab_type": "code",
        "colab": {
          "base_uri": "https://localhost:8080/",
          "height": 262
        },
        "cellView": "form",
        "outputId": "31f16398-3861-4e39-d64e-15acbd38a7f0"
      },
      "source": [
        "#@title Growth of single-cell RNA-seq\n",
        "df = pd.read_csv('http://nxn.se/single-cell-studies/data.tsv', sep='\\t')\n",
        "# converts string to date format, can only be run once!\n",
        "df['Date'] = pd.to_datetime(df['Date'], format='%Y%m%d')\n",
        "\n",
        "# converts string of reported cells total to float, can only be run once!\n",
        "df['Reported cells total'] = df['Reported cells total'].str.replace(',', '').map(float)\n",
        "\n",
        "# plot number of studies over time\n",
        "p.options.figure_size = (9, 2)\n",
        "fig = (\n",
        "    p.ggplot(p.aes(x='Date', y='DOI'), data=df.resample('1M', on='Date').count()[['DOI']].reset_index())\n",
        "    + p.geom_bar(stat='identity')\n",
        "    + p.theme_minimal(base_family='DejaVu Sans')\n",
        "    + p.scale_x_datetime(breaks=date_breaks('1 years'), labels=date_format('%Y'))\n",
        "    + p.labs(y='Number of studies')\n",
        ")\n",
        "print(fig)"
      ],
      "execution_count": 30,
      "outputs": [
        {
          "output_type": "display_data",
          "data": {
            "image/png": "[encoded data removed]",
            "text/plain": [
              "<Figure size 900x200 with 1 Axes>"
            ]
          },
          "metadata": {
            "tags": []
          }
        },
        {
          "output_type": "stream",
          "text": [
            "<ggplot: (-9223363281185755669)>\n"
          ],
          "name": "stdout"
        }
      ]
    },
    {
      "cell_type": "markdown",
      "metadata": {
        "id": "635a5WEKsPxq",
        "colab_type": "text"
      },
      "source": [
        "There are many different scRNA-seq technologies in use and under development, but broadly they fall into a few main categories: well-based methods, droplet-based methods, and spatial transcriptomics approaches. At the time of initial writing of this document (2019), droplet-based approaches have become popular due to their relative low-cost, easy of use, and scalability. This is evident in a breakdown of articles by technology used: "
      ]
    },
    {
      "cell_type": "code",
      "metadata": {
        "id": "0M7wjAq7PaKK",
        "colab_type": "code",
        "colab": {
          "base_uri": "https://localhost:8080/",
          "height": 286
        },
        "cellView": "form",
        "outputId": "cdca099b-b47a-4566-d04a-80eb07eea5b7"
      },
      "source": [
        "#@title Technologies used\n",
        "def tidy_split(df, column, sep='|', keep=False):\n",
        "\n",
        "    indexes = list()\n",
        "    new_values = list()\n",
        "    df = df.dropna(subset=[column])\n",
        "    for i, presplit in enumerate(df[column].astype(str)):\n",
        "        values = presplit.split(sep)\n",
        "        if keep and len(values) > 1:\n",
        "            indexes.append(i)\n",
        "            new_values.append(presplit)\n",
        "        for value in values:\n",
        "            indexes.append(i)\n",
        "            new_values.append(value)\n",
        "    new_df = df.iloc[indexes, :].copy()\n",
        "    new_df[column] = new_values\n",
        "    \n",
        "    return new_df\n",
        "\n",
        "ts = pd.Timestamp\n",
        "\n",
        "tdf = tidy_split(df, 'Technique', ' & ')\n",
        "t_dict = {k: k for k in tdf['Technique'].value_counts().head(5).index}\n",
        "tdf['Technique'] = tdf['Technique'].map(lambda s: t_dict.get(s, 'Other'))\n",
        "techs = list(\n",
        "    tdf['Technique']\n",
        "    .value_counts()\n",
        "    .sort_index()\n",
        "    .index\n",
        "    .difference(['Other'])\n",
        ")\n",
        "techs.append('Other')\n",
        "tdf['Technique'] = (\n",
        "    pd.Categorical(\n",
        "       tdf['Technique'],\n",
        "        categories=techs,\n",
        "        ordered=True\n",
        "    )\n",
        ")\n",
        "\n",
        "def desaturate(color, prop):\n",
        "    \n",
        "    # Check inputs\n",
        "#     if not 0 <= prop <= 1:\n",
        "#         raise ValueError(\"prop must be between 0 and 1\")\n",
        "\n",
        "    # Get rgb tuple rep\n",
        "    rgb = mplcol.colorConverter.to_rgb(color)\n",
        "\n",
        "    # Convert to hls\n",
        "    h, l, s = colorsys.rgb_to_hls(*rgb)\n",
        "\n",
        "    # Desaturate the saturation channel\n",
        "#     l *= prop\n",
        "    l = 0.8\n",
        "\n",
        "    # Convert back to rgb\n",
        "    new_color = colorsys.hls_to_rgb(h, l, s)\n",
        "    \n",
        "    hex_color = '#{:02x}{:02x}{:02x}'.format(*map(lambda c: int(c * 255), new_color))\n",
        "\n",
        "    return hex_color\n",
        "\n",
        "    # lighten matplotlib default colors\n",
        "clrs = list(map(lambda c: desaturate(c, 1.2), ['C0', 'C1', 'C2', 'C3', 'C4', 'black']))\n",
        "\n",
        "#### Plot number of studies per month by technique\n",
        "per_month = (\n",
        "    tdf\n",
        "    .groupby('Technique')\n",
        "    .resample('1M', on='Date')\n",
        "    .count()['DOI']\n",
        "    .reset_index()\n",
        ")\n",
        "\n",
        "p.options.figure_size = (9, 2)\n",
        "fig = (\n",
        "    p.ggplot(\n",
        "        p.aes(x='Date', y='DOI', fill='Technique'),\n",
        "        data=per_month.query('Date > @ts(\"20130101T010101\")')\n",
        "    )\n",
        "    + p.geom_bar(stat='identity', color='grey')\n",
        "    + p.theme_minimal(base_family='DejaVu Sans')\n",
        "    + p.scale_x_datetime(\n",
        "        breaks=date_breaks('1 years'),\n",
        "        labels=date_format('%Y')\n",
        "    )\n",
        "    + p.labs(y='Number of studies')\n",
        "    + p.scale_fill_manual(clrs)\n",
        ")\n",
        "fig"
      ],
      "execution_count": 31,
      "outputs": [
        {
          "output_type": "display_data",
          "data": {
            "image/png": "[encoded data removed]",
            "text/plain": [
              "<Figure size 900x200 with 1 Axes>"
            ]
          },
          "metadata": {
            "tags": []
          }
        },
        {
          "output_type": "execute_result",
          "data": {
            "text/plain": [
              "<ggplot: (-9223363281181208611)>"
            ]
          },
          "metadata": {
            "tags": []
          },
          "execution_count": 31
        }
      ]
    },
    {
      "cell_type": "markdown",
      "metadata": {
        "id": "orVyX2Sms1r2",
        "colab_type": "text"
      },
      "source": [
        "## Droplet-based methods\n",
        "\n",
        "We therefore focus on droplet-based methods, although we note that many of the concepts we introduce are relevant for other technologies as well.\n",
        "\n",
        "Droplet based single-cell RNA-seq methods were popularized by a pair of papers published concurrently in 2015: \n",
        "- [Macosko et al., Highly parallel genome-wide expression profiling of individual cells using nanoliter droplets, 2015. DOI:10.1016/j.cell.2015.05.002](https://www.cell.com/fulltext/S0092-8674(15)00549-8) describes Drop-seq.\n",
        "- [Klein et al., Droplet barcoding for single-cell transcriptomics applied to embryonic stem cells, 2015. DOI:10.1016/j.cell.2015.04.044](https://www.cell.com/cell/fulltext/S0092-8674(15)00500-0) descibes inDrops.\n",
        "\n",
        "Both of the methods makes use of developments in microfluidics published in:\n",
        "- Song, Chen, Ismagilov, Reactions in droplets in microfluidic channels, 2006. DOI:10.1002/anie.200601554\n",
        "- Guo, Rotem, Heyman and Weitz, Droplet microfluidics for high-throughput biological assays, 2012. DOI:10.1039/C2LC21147E"
      ]
    },
    {
      "cell_type": "markdown",
      "metadata": {
        "id": "a2MjWRbTyC64",
        "colab_type": "text"
      },
      "source": [
        "The key to these methods is the encapsulation of cells in droplets forming a mono-dispersed emulsion. \n"
      ]
    },
    {
      "cell_type": "code",
      "metadata": {
        "id": "gz6ds9kyIODl",
        "colab_type": "code",
        "colab": {}
      },
      "source": [
        "# !wget https://www.annualreviews.org/na101/home/literatum/publisher/ar/journals/content/biodatasci/2018/biodatasci.2018.1.issue-1/annurev-biodatasci-080917-013452/20180705/images/large/bd10029.f2.jpeg"
      ],
      "execution_count": 0,
      "outputs": []
    },
    {
      "cell_type": "code",
      "metadata": {
        "id": "YA5_7mn3KJeW",
        "colab_type": "code",
        "colab": {}
      },
      "source": [
        "# image = plt.imread(\"bd10029.f2.jpeg\")"
      ],
      "execution_count": 0,
      "outputs": []
    },
    {
      "cell_type": "code",
      "metadata": {
        "id": "SEffYJ_JSM7D",
        "colab_type": "code",
        "colab": {}
      },
      "source": [
        "#fig, ax = plt.subplots(figsize=(15,15))\n",
        "# ax.imshow(image)\n",
        "# ax.axis('off')  # clear x-axis and y-axis"
      ],
      "execution_count": 0,
      "outputs": []
    },
    {
      "cell_type": "code",
      "metadata": {
        "id": "G9RJFCQ8T2eF",
        "colab_type": "code",
        "outputId": "d8174b8d-ffa0-4e09-a5e8-6f823a75bb6e",
        "colab": {
          "base_uri": "https://localhost:8080/",
          "height": 133
        }
      },
      "source": [
        "Testing some math\n",
        "\n",
        "from IPython.display import Math, HTML\n",
        "display(HTML(\"<script src='https://cdnjs.cloudflare.com/ajax/libs/mathjax/2.7.3/\"\n",
        "               \"latest.js?config=default'></script>\"))\n",
        "\n",
        "Math(r'F(k) = \\int_{-\\infty}^{\\infty} f(x) e^{2\\pi i k} dx')\n"
      ],
      "execution_count": 35,
      "outputs": [
        {
          "output_type": "error",
          "ename": "SyntaxError",
          "evalue": "ignored",
          "traceback": [
            "\u001b[0;36m  File \u001b[0;32m\"<ipython-input-35-b84685bf28ab>\"\u001b[0;36m, line \u001b[0;32m1\u001b[0m\n\u001b[0;31m    Testing some math\u001b[0m\n\u001b[0m               ^\u001b[0m\n\u001b[0;31mSyntaxError\u001b[0m\u001b[0;31m:\u001b[0m invalid syntax\n"
          ]
        }
      ]
    },
    {
      "cell_type": "markdown",
      "metadata": {
        "id": "67g7iElnU8UJ",
        "colab_type": "text"
      },
      "source": [
        "python notebook \n",
        "\n",
        "Equation 1\n",
        "$$\\frac{sin(x)}{x}$$\n",
        "\n",
        "foo bar \n",
        "\n",
        "Equation 2\n",
        "\\begin{equation}\n",
        "F(k) = \\int_{-\\infty}^{\\infty} f(x) e^{2\\pi i k} dx\n",
        "\\end{equation}"
      ]
    },
    {
      "cell_type": "code",
      "metadata": {
        "id": "PP56Mvs0QZQy",
        "colab_type": "code",
        "colab": {}
      },
      "source": [
        ""
      ],
      "execution_count": 0,
      "outputs": []
    },
    {
      "cell_type": "markdown",
      "metadata": {
        "id": "8V_JOW0LEmQy",
        "colab_type": "text"
      },
      "source": [
        "\n",
        "Binomial distribution is defined on a finite set consisting of all the possible results of $N$ tries of an experiment with a binary outcome, $0$ or $1$. If $p$ is the probability of getting a $1$ and $1-p$ that of getting a $0$, the probability that $k$ out of the $N$ tries yield a $1$ is:\n",
        " \n",
        " $P(k\\ 1s\\ out\\ of\\ N) = \\binom{N}{k}p^k(1-p)^{N-k}$\n",
        " \n",
        " it mean is $\\mu = Np$ and variance is $\\sigma^2=Np(1-p)$"
      ]
    },
    {
      "cell_type": "code",
      "metadata": {
        "id": "FXK8E44tEmrf",
        "colab_type": "code",
        "colab": {}
      },
      "source": [
        "from scipy.stats import binom\n",
        "b = binom.rvs(n=10, p=0.5, size=10000)"
      ],
      "execution_count": 0,
      "outputs": []
    },
    {
      "cell_type": "code",
      "metadata": {
        "id": "60yOhEjjEt5L",
        "colab_type": "code",
        "colab": {
          "base_uri": "https://localhost:8080/",
          "height": 293
        },
        "outputId": "2720a0aa-d213-4373-baff-0aa60ef87c6f"
      },
      "source": [
        "sns.barplot(x=np.arange(20), y=binom.pmf(np.arange(20),20,0.2), color='r')"
      ],
      "execution_count": 67,
      "outputs": [
        {
          "output_type": "execute_result",
          "data": {
            "text/plain": [
              "<matplotlib.axes._subplots.AxesSubplot at 0x7f69676884e0>"
            ]
          },
          "metadata": {
            "tags": []
          },
          "execution_count": 67
        },
        {
          "output_type": "display_data",
          "data": {
            "image/png": "[encoded data removed]",
            "text/plain": [
              "<Figure size 432x288 with 1 Axes>"
            ]
          },
          "metadata": {
            "tags": []
          }
        }
      ]
    },
    {
      "cell_type": "code",
      "metadata": {
        "id": "7_Bz9jWwFifo",
        "colab_type": "code",
        "colab": {}
      },
      "source": [
        "from scipy.stats import poisson"
      ],
      "execution_count": 0,
      "outputs": []
    },
    {
      "cell_type": "code",
      "metadata": {
        "id": "1S6lZC1vEwEp",
        "colab_type": "code",
        "colab": {
          "base_uri": "https://localhost:8080/",
          "height": 293
        },
        "outputId": "6ec87f88-2959-4289-c588-95c65944c51e"
      },
      "source": [
        "sns.barplot(x=np.arange(20), y=poisson.pmf(np.arange(20),5), color='r')"
      ],
      "execution_count": 70,
      "outputs": [
        {
          "output_type": "execute_result",
          "data": {
            "text/plain": [
              "<matplotlib.axes._subplots.AxesSubplot at 0x7f69671e9588>"
            ]
          },
          "metadata": {
            "tags": []
          },
          "execution_count": 70
        },
        {
          "output_type": "display_data",
          "data": {
            "image/png": "[encoded data removed]",
            "text/plain": [
              "<Figure size 432x288 with 1 Axes>"
            ]
          },
          "metadata": {
            "tags": []
          }
        }
      ]
    },
    {
      "cell_type": "code",
      "metadata": {
        "id": "wmgXHLlHFdhI",
        "colab_type": "code",
        "colab": {}
      },
      "source": [
        ""
      ],
      "execution_count": 0,
      "outputs": []
    }
  ]
}