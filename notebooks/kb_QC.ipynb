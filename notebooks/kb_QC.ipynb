{
  "nbformat": 4,
  "nbformat_minor": 0,
  "metadata": {
    "kernelspec": {
      "display_name": "R",
      "language": "R",
      "name": "ir"
    },
    "language_info": {
      "codemirror_mode": "r",
      "file_extension": ".r",
      "mimetype": "text/x-r-source",
      "name": "R",
      "pygments_lexer": "r",
      "version": "3.6.2"
    },
    "colab": {
      "name": "QC.ipynb",
      "provenance": [],
      "toc_visible": true,
      "include_colab_link": true
    }
  },
  "cells": [
    {
      "cell_type": "markdown",
      "metadata": {
        "id": "view-in-github",
        "colab_type": "text"
      },
      "source": [
        "<a href=\"https://colab.research.google.com/github/pachterlab/kallistobustools/blob/master/notebooks/kb_QC.ipynb\" target=\"_parent\"><img src=\"https://colab.research.google.com/assets/colab-badge.svg\" alt=\"Open In Colab\"/></a>"
      ]
    },
    {
      "cell_type": "markdown",
      "metadata": {
        "id": "37_Gm6SuInoO",
        "colab_type": "text"
      },
      "source": [
        "# Introduction to single-cell RNA-seq I: pre-processing and quality control\n",
        "\n",
        "This notebook demonstrates the use of the kallisto and bustools programs for pre-processing single-cell RNA-seq data. It streams in 1 million *C. elegans* reads, pseudoaligns them, and produces a *cells x genes* count matrix in about a minute. The notebook then performs some basic QC. It expands on a notebook prepared by Sina Booeshaghi for the Genome Informatics 2019 meeting, where he ran it in under 60 seconds during a 1 minute \"lightning talk\"."
      ]
    },
    {
      "cell_type": "markdown",
      "metadata": {
        "id": "oJdACvlBDS9e",
        "colab_type": "text"
      },
      "source": [
        "The notebook was written by A. Sina Booeshaghi and Lior Pachter. If you use the methods in this notebook for your analysis please cite the following publication, on which it is based:\n",
        "\n",
        "* Melsted, P., Booeshaghi, A.S. et al. Modular and efficient pre-processing of single-cell RNA-seq. bioRxiv (2019). doi:10.1101/673285"
      ]
    },
    {
      "cell_type": "markdown",
      "metadata": {
        "id": "5WsUZWoYDWFJ",
        "colab_type": "text"
      },
      "source": [
        "## Setup"
      ]
    },
    {
      "cell_type": "code",
      "metadata": {
        "id": "gZRSfqv0JEwx",
        "colab_type": "code",
        "colab": {}
      },
      "source": [
        "# This is  used to time the running of the notebook\n",
        "start_time <- Sys.time()"
      ],
      "execution_count": 0,
      "outputs": []
    },
    {
      "cell_type": "markdown",
      "metadata": {
        "id": "ZUof2P6iDcRm",
        "colab_type": "text"
      },
      "source": [
        "### Install R packages"
      ]
    },
    {
      "cell_type": "code",
      "metadata": {
        "id": "oDT4tUmS3t6Y",
        "colab_type": "code",
        "outputId": "ba34535f-0835-49b8-f1be-cda028e1fad6",
        "colab": {
          "base_uri": "https://localhost:8080/",
          "height": 69
        }
      },
      "source": [
        "install.packages(c(\"rsvd\", \"ggpointdensity\"),Ncpus = 2)"
      ],
      "execution_count": 4,
      "outputs": [
        {
          "output_type": "stream",
          "text": [
            "Installing packages into ‘/usr/local/lib/R/site-library’\n",
            "(as ‘lib’ is unspecified)\n",
            "\n"
          ],
          "name": "stderr"
        }
      ]
    },
    {
      "cell_type": "code",
      "metadata": {
        "id": "qRYYqfaIvaJ5",
        "colab_type": "code",
        "outputId": "d7495bf2-e490-4ee8-8eab-692a5ddb1770",
        "colab": {
          "base_uri": "https://localhost:8080/",
          "height": 416
        }
      },
      "source": [
        "library(Matrix)\n",
        "library(rsvd)\n",
        "library(ggplot2) # Tidyverse is pre-installed, yay!\n",
        "library(dplyr)\n",
        "library(tidyr)\n",
        "library(ggpointdensity)\n",
        "theme_set(theme_bw())"
      ],
      "execution_count": 5,
      "outputs": [
        {
          "output_type": "stream",
          "text": [
            "\n",
            "Attaching package: ‘dplyr’\n",
            "\n",
            "\n",
            "The following objects are masked from ‘package:stats’:\n",
            "\n",
            "    filter, lag\n",
            "\n",
            "\n",
            "The following objects are masked from ‘package:base’:\n",
            "\n",
            "    intersect, setdiff, setequal, union\n",
            "\n",
            "\n",
            "\n",
            "Attaching package: ‘tidyr’\n",
            "\n",
            "\n",
            "The following objects are masked from ‘package:Matrix’:\n",
            "\n",
            "    expand, pack, unpack\n",
            "\n",
            "\n"
          ],
          "name": "stderr"
        }
      ]
    },
    {
      "cell_type": "markdown",
      "metadata": {
        "id": "MM8YzRJ6EGMV",
        "colab_type": "text"
      },
      "source": [
        "### Install kb-python (includes kallisto and bustools)"
      ]
    },
    {
      "cell_type": "code",
      "metadata": {
        "id": "HwgcjX0lv5KS",
        "colab_type": "code",
        "colab": {}
      },
      "source": [
        "system(\"pip3 install kb-python\")"
      ],
      "execution_count": 0,
      "outputs": []
    },
    {
      "cell_type": "markdown",
      "metadata": {
        "id": "t9kj57XYEOMm",
        "colab_type": "text"
      },
      "source": [
        "## Download required files"
      ]
    },
    {
      "cell_type": "code",
      "metadata": {
        "id": "zBHj3KPKx7xP",
        "colab_type": "code",
        "outputId": "b4190be2-f5c1-408f-ff28-34aa29be8dda",
        "colab": {
          "base_uri": "https://localhost:8080/",
          "height": 34
        }
      },
      "source": [
        "system(\"which kb\", intern = TRUE)"
      ],
      "execution_count": 7,
      "outputs": [
        {
          "output_type": "display_data",
          "data": {
            "text/plain": [
              "[1] \"/usr/local/bin/kb\""
            ],
            "text/latex": "'/usr/local/bin/kb'",
            "text/markdown": "'/usr/local/bin/kb'",
            "text/html": [
              "'/usr/local/bin/kb'"
            ]
          },
          "metadata": {
            "tags": []
          }
        }
      ]
    },
    {
      "cell_type": "code",
      "metadata": {
        "id": "o7lq_daRvlGG",
        "colab_type": "code",
        "colab": {}
      },
      "source": [
        "# The quantification of single-cell RNA-seq with kallisto requires an index. \n",
        "# Indices are species specific and can be generated or downloaded directly with `kb`. \n",
        "# Here we download a pre-made index for C. elegans (the idx.idx file) along with an auxillary file (t2g.txt) \n",
        "# that describes the relationship between transcripts and genes.\n",
        "download.file(\"https://caltech.box.com/shared/static/82yv415pkbdixhzi55qac1htiaph9ng4.idx\",\n",
        "destfile = \"idx.idx\")\n",
        "download.file(\"https://caltech.box.com/shared/static/cflxji16171skf3syzm8scoxkcvbl97x.txt\",\n",
        "destfile = \"t2g.txt\")"
      ],
      "execution_count": 0,
      "outputs": []
    },
    {
      "cell_type": "markdown",
      "metadata": {
        "id": "-qrPpZ_VwDsX",
        "colab_type": "text"
      },
      "source": [
        "## Pseudoalignment and counting"
      ]
    },
    {
      "cell_type": "markdown",
      "metadata": {
        "id": "QL1HFAz3wBSd",
        "colab_type": "text"
      },
      "source": [
        "In this notebook we pseudoalign 1 million *C. elegans* reads and count UMIs to produce a *cells x genes* matrix. These are located at XXX and instead of being downloaded, are streamed directly to the Google Colab notebook for quantification. \n",
        "See [this blog post](https://sinabooeshaghi.com/2019/07/09/fasterq-to-count-matrices-for-single-cell-rna-seq/) for more details on how the streaming works.\n",
        "\n",
        "The data consists of a subset of reads from [GSE126954](https://www.ncbi.nlm.nih.gov/geo/query/acc.cgi?acc=GSE126954) described in the paper:\n",
        "\n",
        "* Packer, J., Zhu, Q. et al. [A lineage-resolved molecular atlas of C. elegans embryogenesis at single-cell resolution](https://science.sciencemag.org/content/365/6459/eaax1971/tab-e-letters). Science (2019). doi:10.1126/science.aax1971"
      ]
    },
    {
      "cell_type": "markdown",
      "metadata": {
        "id": "9kwoViuIE2Yc",
        "colab_type": "text"
      },
      "source": [
        "### Run kallisto and bustools"
      ]
    },
    {
      "cell_type": "code",
      "metadata": {
        "id": "YqXp8YFUwi9N",
        "colab_type": "code",
        "outputId": "35e6668b-15d4-46f0-c178-6475dd3b89b9",
        "colab": {
          "base_uri": "https://localhost:8080/",
          "height": 17
        }
      },
      "source": [
        "system(\"kb count -i idx.idx -g t2g.txt --overwrite -t 2 -x 10xv2 https://caltech.box.com/shared/static/fh81mkceb8ydwma3tlrqfgq22z4kc4nt.gz https://caltech.box.com/shared/static/ycxkluj5my7g3wiwhyq3vhv71mw5gmj5.gz\",\n",
        "intern = TRUE)"
      ],
      "execution_count": 9,
      "outputs": [
        {
          "output_type": "display_data",
          "data": {
            "text/plain": [
              "character(0)"
            ],
            "text/latex": "",
            "text/markdown": "",
            "text/html": [
              ""
            ]
          },
          "metadata": {
            "tags": []
          }
        }
      ]
    },
    {
      "cell_type": "markdown",
      "metadata": {
        "id": "jB3xN-9-zgqN",
        "colab_type": "text"
      },
      "source": [
        "## Basic QC\n",
        "\n"
      ]
    },
    {
      "cell_type": "markdown",
      "metadata": {
        "id": "rAvmRPueE87x",
        "colab_type": "text"
      },
      "source": [
        "### Represent the cells in 2D"
      ]
    },
    {
      "cell_type": "code",
      "metadata": {
        "id": "0BIgRElDzZa2",
        "colab_type": "code",
        "colab": {}
      },
      "source": [
        "mat <- readMM(\"/content/counts_unfiltered/cells_x_genes.mtx\")"
      ],
      "execution_count": 0,
      "outputs": []
    },
    {
      "cell_type": "code",
      "metadata": {
        "id": "KYg7rgMg5gus",
        "colab_type": "code",
        "colab": {}
      },
      "source": [
        "# Convert to dgCMatrix\n",
        "mat <- as(mat, \"dgCMatrix\")"
      ],
      "execution_count": 0,
      "outputs": []
    },
    {
      "cell_type": "code",
      "metadata": {
        "id": "KjI6tNWizoVv",
        "colab_type": "code",
        "outputId": "3804ae79-f17d-4079-de44-6f8d48b94fab",
        "colab": {
          "base_uri": "https://localhost:8080/",
          "height": 34
        }
      },
      "source": [
        "dim(mat)"
      ],
      "execution_count": 12,
      "outputs": [
        {
          "output_type": "display_data",
          "data": {
            "text/plain": [
              "[1] 95372 22113"
            ],
            "text/latex": "\\begin{enumerate*}\n\\item 95372\n\\item 22113\n\\end{enumerate*}\n",
            "text/markdown": "1. 95372\n2. 22113\n\n\n",
            "text/html": [
              "<style>\n",
              ".list-inline {list-style: none; margin:0; padding: 0}\n",
              ".list-inline>li {display: inline-block}\n",
              ".list-inline>li:not(:last-child)::after {content: \"\\00b7\"; padding: 0 .5ex}\n",
              "</style>\n",
              "<ol class=list-inline><li>95372</li><li>22113</li></ol>\n"
            ]
          },
          "metadata": {
            "tags": []
          }
        }
      ]
    },
    {
      "cell_type": "code",
      "metadata": {
        "id": "i9J_en5gHo2V",
        "colab_type": "code",
        "colab": {}
      },
      "source": [
        "pca_res <- rpca(mat, k = 2) # scales and centers by default"
      ],
      "execution_count": 0,
      "outputs": []
    },
    {
      "cell_type": "code",
      "metadata": {
        "id": "GkOHYu52FxXV",
        "colab_type": "code",
        "colab": {}
      },
      "source": [
        "colnames(pca_res$x) <- paste0(\"PC\", 1:15)\n",
        "plot(pca_res$x[,1:2])"
      ],
      "execution_count": 0,
      "outputs": []
    },
    {
      "cell_type": "code",
      "metadata": {
        "id": "h9CW0hW2FQ4z",
        "colab_type": "code",
        "colab": {}
      },
      "source": [
        "colnames(pca_res$x) <- paste0(\"PC\", 1:15)\n",
        "options(repr.plot.width=12, repr.plot.height=12)\n",
        "pairs(pca_res$x[,1:4])"
      ],
      "execution_count": 0,
      "outputs": []
    },
    {
      "cell_type": "markdown",
      "metadata": {
        "id": "x4yyj2E7Jk37",
        "colab_type": "text"
      },
      "source": [
        "Here cells are in rows and genes are in columns, while usually in single cell analyses, cells are in columns and genes are in rows. Here most \"cells\" are empty droplets."
      ]
    },
    {
      "cell_type": "markdown",
      "metadata": {
        "id": "rmzB0pMbHJ5m",
        "colab_type": "text"
      },
      "source": [
        "### Test for library saturation"
      ]
    },
    {
      "cell_type": "markdown",
      "metadata": {
        "id": "jKdKHhryJ-3p",
        "colab_type": "text"
      },
      "source": [
        "### Examine the knee plot"
      ]
    },
    {
      "cell_type": "markdown",
      "metadata": {
        "id": "szJwQQlO7jrj",
        "colab_type": "text"
      },
      "source": [
        "## Remove empty droplets"
      ]
    },
    {
      "cell_type": "markdown",
      "metadata": {
        "id": "9MPJu8JO-9K-",
        "colab_type": "text"
      },
      "source": [
        "A common way to remove empty droplets is to find the inflection point on the knee plot."
      ]
    },
    {
      "cell_type": "code",
      "metadata": {
        "id": "D4sdNQRC7mP8",
        "colab_type": "code",
        "colab": {}
      },
      "source": [
        "tot_counts <- rowSums(mat)\n",
        "df <- tibble(total = tot_counts,\n",
        "             rank = row_number(desc(total))) %>%\n",
        "      distinct() %>%\n",
        "      arrange(rank)"
      ],
      "execution_count": 0,
      "outputs": []
    },
    {
      "cell_type": "code",
      "metadata": {
        "id": "2bPmnjIe8AOK",
        "colab_type": "code",
        "colab": {}
      },
      "source": [
        "options(repr.plot.width=9, repr.plot.height=6)\n",
        "ggplot(df, aes(total, rank)) +\n",
        "  geom_path() +\n",
        "  scale_x_log10() + scale_y_log10() + annotation_logticks() +\n",
        "  labs(y = \"Barcode rank\", x = \"Total UMI count\")"
      ],
      "execution_count": 0,
      "outputs": []
    },
    {
      "cell_type": "markdown",
      "metadata": {
        "id": "98QjbB7T-5iw",
        "colab_type": "text"
      },
      "source": [
        "Crappy data, can't see clear inflection point, well, but this is only a subset of the reads. Probably a threshold of at least 30 UMI would work here."
      ]
    },
    {
      "cell_type": "code",
      "metadata": {
        "id": "03SjiCpY8aJf",
        "colab_type": "code",
        "colab": {}
      },
      "source": [
        "mat <- mat[rowSums(mat) > 30, colSums(mat) > 0] # Also remove 0 count genes\n",
        "dim(mat)"
      ],
      "execution_count": 0,
      "outputs": []
    },
    {
      "cell_type": "code",
      "metadata": {
        "id": "BBlC9LQM_xyU",
        "colab_type": "code",
        "colab": {}
      },
      "source": [
        "df2 <- tibble(nCount = rowSums(mat),\n",
        "              nGene = rowSums(mat > 0))"
      ],
      "execution_count": 0,
      "outputs": []
    },
    {
      "cell_type": "code",
      "metadata": {
        "id": "VXntMVuoAdMt",
        "colab_type": "code",
        "colab": {}
      },
      "source": [
        "df2 %>%\n",
        "  pivot_longer(everything()) %>%\n",
        "  ggplot(aes(name, value)) +\n",
        "  geom_violin() +\n",
        "  geom_jitter(size = 0.5, alpha = 0.3) +\n",
        "  scale_y_log10() +\n",
        "  labs(x = \"\")"
      ],
      "execution_count": 0,
      "outputs": []
    },
    {
      "cell_type": "code",
      "metadata": {
        "id": "ESxxU7a8A1Xm",
        "colab_type": "code",
        "colab": {}
      },
      "source": [
        "ggplot(df2, aes(nCount, nGene)) +\n",
        "  geom_pointdensity(size = 0.5, alpha = 0.3) +\n",
        "  scale_color_viridis_c() +\n",
        "  scale_x_log10() + scale_y_log10() + annotation_logticks() +\n",
        "  labs(x = \"Total UMI counts\", y = \"Number of genes detected\")"
      ],
      "execution_count": 0,
      "outputs": []
    },
    {
      "cell_type": "markdown",
      "metadata": {
        "id": "hJbZr_evLTx-",
        "colab_type": "text"
      },
      "source": [
        "### Exercises"
      ]
    },
    {
      "cell_type": "markdown",
      "metadata": {
        "id": "NzfWJB79DjZL",
        "colab_type": "text"
      },
      "source": [
        "#### Exploring PCA subspaces"
      ]
    },
    {
      "cell_type": "code",
      "metadata": {
        "id": "W7AtJpMrCa_f",
        "colab_type": "code",
        "colab": {}
      },
      "source": [
        "# Log normalize, the Seurat way\n",
        "norm_mat <- log1p(sweep(mat, 1, df2$nCount, FUN = \"/\") * 1e4)"
      ],
      "execution_count": 0,
      "outputs": []
    },
    {
      "cell_type": "code",
      "metadata": {
        "id": "HRqyhGqVE6qz",
        "colab_type": "code",
        "colab": {}
      },
      "source": [
        "{pca_res <- rpca(norm_mat, k = 15) # scales and centers by default\n",
        "ggscreeplot(pca_res)}"
      ],
      "execution_count": 0,
      "outputs": []
    },
    {
      "cell_type": "code",
      "metadata": {
        "id": "yi815ulOFTDw",
        "colab_type": "code",
        "colab": {}
      },
      "source": [
        "colnames(pca_res$x) <- paste0(\"PC\", 1:15)"
      ],
      "execution_count": 0,
      "outputs": []
    },
    {
      "cell_type": "code",
      "metadata": {
        "id": "OJwJ1OdCFnFm",
        "colab_type": "code",
        "colab": {}
      },
      "source": [
        "options(repr.plot.width=12, repr.plot.height=12)\n",
        "pairs(pca_res$x[,1:4])"
      ],
      "execution_count": 0,
      "outputs": []
    },
    {
      "cell_type": "markdown",
      "metadata": {
        "id": "9qyrqamZKEVu",
        "colab_type": "text"
      },
      "source": [
        "## Discussion"
      ]
    },
    {
      "cell_type": "markdown",
      "metadata": {
        "id": "Rt-DPxaNKGrQ",
        "colab_type": "text"
      },
      "source": [
        "This notebook has demonstrated the pre-processing required for single-cell RNA-seq analysis. `kb` is used to pseudoalign reads and to generate a *cells x genes* matrix. Following generation of a matrix, basic QC helps to assess the quality of the data."
      ]
    },
    {
      "cell_type": "code",
      "metadata": {
        "id": "MXhNZGaIG9C4",
        "colab_type": "code",
        "colab": {}
      },
      "source": [
        "# Running time of the notebook\n",
        "Sys.time() - start_time"
      ],
      "execution_count": 0,
      "outputs": []
    }
  ]
}