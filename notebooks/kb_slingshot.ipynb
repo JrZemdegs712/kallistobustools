{
  "nbformat": 4,
  "nbformat_minor": 0,
  "metadata": {
    "kernelspec": {
      "display_name": "R",
      "language": "R",
      "name": "ir"
    },
    "language_info": {
      "codemirror_mode": "r",
      "file_extension": ".r",
      "mimetype": "text/x-r-source",
      "name": "R",
      "pygments_lexer": "r",
      "version": "3.6.2"
    },
    "colab": {
      "name": "Slingshot.ipynb",
      "provenance": [],
      "include_colab_link": true
    }
  },
  "cells": [
    {
      "cell_type": "markdown",
      "metadata": {
        "id": "view-in-github",
        "colab_type": "text"
      },
      "source": [
        "<a href=\"https://colab.research.google.com/github/pachterlab/kallistobustools/blob/master/notebooks/kb_slingshot.ipynb\" target=\"_parent\"><img src=\"https://colab.research.google.com/assets/colab-badge.svg\" alt=\"Open In Colab\"/></a>"
      ]
    },
    {
      "cell_type": "code",
      "metadata": {
        "id": "VbNENf1idDJl",
        "colab_type": "code",
        "outputId": "24fd23e6-ce10-403f-d2a8-89607c39bf52",
        "colab": {
          "base_uri": "https://localhost:8080/",
          "height": 547
        }
      },
      "source": [
        "install.packages(c(\"BiocManager\", \"scales\", \"viridis\"))\n",
        "BiocManager::install(c(\"multtest\", \"slingshot\", \"BUSpaRse\", \"SingleR\", \"DropletUtils\"))\n",
        "install.packages(\"Seurat\")"
      ],
      "execution_count": 0,
      "outputs": [
        {
          "output_type": "stream",
          "text": [
            "Installing packages into ‘/usr/local/lib/R/site-library’\n",
            "(as ‘lib’ is unspecified)\n",
            "\n",
            "also installing the dependencies ‘numDeriv’, ‘SQUAREM’, ‘miniUI’, ‘zoo’, ‘packrat’, ‘igraph’, ‘lava’, ‘listenv’, ‘ggridges’, ‘minqa’, ‘nloptr’, ‘checkmate’, ‘matrixStats’, ‘inline’, ‘colourpicker’, ‘dygraphs’, ‘gtools’, ‘rsconnect’, ‘shinyjs’, ‘shinythemes’, ‘threejs’, ‘xts’, ‘prodlim’, ‘future’, ‘SnowballC’, ‘ISOcodes’, ‘bayesplot’, ‘lme4’, ‘loo’, ‘rstan’, ‘rstantools’, ‘shinystan’, ‘StanHeaders’, ‘RcppEigen’, ‘DiceDesign’, ‘globals’, ‘gower’, ‘ipred’, ‘timeDate’, ‘furrr’, ‘hunspell’, ‘tokenizers’, ‘janeaustenr’, ‘stopwords’, ‘rstanarm’, ‘pROC’, ‘dials’, ‘infer’, ‘parsnip’, ‘recipes’, ‘rsample’, ‘tidytext’, ‘tidypredict’, ‘tidyposterior’, ‘yardstick’, ‘gridExtra’\n",
            "\n",
            "\n",
            "Warning message in install.packages(c(\"BiocManager\", \"tidymodels\", \"scales\", \"viridis\")):\n",
            "“installation of package ‘rstanarm’ had non-zero exit status”\n",
            "Warning message in install.packages(c(\"BiocManager\", \"tidymodels\", \"scales\", \"viridis\")):\n",
            "“installation of package ‘tidyposterior’ had non-zero exit status”\n",
            "Warning message in install.packages(c(\"BiocManager\", \"tidymodels\", \"scales\", \"viridis\")):\n",
            "“installation of package ‘tidymodels’ had non-zero exit status”\n",
            "Bioconductor version 3.10 (BiocManager 1.30.10), R 3.6.2 (2019-12-12)\n",
            "\n",
            "Installing package(s) 'BiocVersion', 'multtest', 'slingshot', 'BUSpaRse'\n",
            "\n",
            "also installing the dependencies ‘formatR’, ‘lambda.r’, ‘futile.options’, ‘futile.logger’, ‘snow’, ‘bit’, ‘vctrs’, ‘BiocParallel’, ‘bit64’, ‘blob’, ‘DBI’, ‘zlibbioc’, ‘bitops’, ‘Rhtslib’, ‘DelayedArray’, ‘IRanges’, ‘RSQLite’, ‘XML’, ‘BiocFileCache’, ‘rappdirs’, ‘XVector’, ‘rtracklayer’, ‘Rsamtools’, ‘ProtGenerics’, ‘RCurl’, ‘GenomeInfoDbData’, ‘GenomicAlignments’, ‘BiocGenerics’, ‘Biobase’, ‘princurve’, ‘ape’, ‘SingleCellExperiment’, ‘SummarizedExperiment’, ‘AnnotationDbi’, ‘AnnotationFilter’, ‘biomaRt’, ‘Biostrings’, ‘BSgenome’, ‘data.table’, ‘ensembldb’, ‘GenomeInfoDb’, ‘GenomicFeatures’, ‘GenomicRanges’, ‘plyranges’, ‘RcppParallel’, ‘S4Vectors’, ‘RcppArmadillo’, ‘RcppProgress’\n",
            "\n",
            "\n",
            "Old packages: 'BH', 'broom', 'callr', 'cli', 'curl', 'DBI', 'DT', 'fansi',\n",
            "  'farver', 'gh', 'hms', 'knitr', 'mime', 'pillar', 'prettyunits', 'rlang',\n",
            "  'rmarkdown', 'rprojroot', 'stringi', 'tidyr', 'tinytex', 'vctrs', 'xfun',\n",
            "  'xtable', 'boot', 'foreign', 'MASS'\n",
            "\n",
            "Installing package into ‘/usr/local/lib/R/site-library’\n",
            "(as ‘lib’ is unspecified)\n",
            "\n",
            "also installing the dependencies ‘mnormt’, ‘TH.data’, ‘sandwich’, ‘lsei’, ‘bibtex’, ‘gbRd’, ‘sn’, ‘mvtnorm’, ‘plotrix’, ‘multcomp’, ‘gdata’, ‘caTools’, ‘R.oo’, ‘R.methodsS3’, ‘sitmo’, ‘npsurv’, ‘Rdpack’, ‘TFisher’, ‘mutoss’, ‘hexbin’, ‘gplots’, ‘R.utils’, ‘FNN’, ‘RSpectra’, ‘dqrng’, ‘cowplot’, ‘fitdistrplus’, ‘future.apply’, ‘ggrepel’, ‘ica’, ‘irlba’, ‘leiden’, ‘lmtest’, ‘metap’, ‘pbapply’, ‘plotly’, ‘png’, ‘RANN’, ‘RcppAnnoy’, ‘reticulate’, ‘ROCR’, ‘rsvd’, ‘Rtsne’, ‘sctransform’, ‘SDMTools’, ‘tsne’, ‘uwot’\n",
            "\n",
            "\n"
          ],
          "name": "stderr"
        }
      ]
    },
    {
      "cell_type": "code",
      "metadata": {
        "id": "845ftm6Muisj",
        "colab_type": "code",
        "colab": {}
      },
      "source": [
        "system(\"wget https://github.com/pachterlab/kallisto/releases/download/v0.46.1/kallisto_linux-v0.46.1.tar.gz\")\n",
        "untar(\"kallisto_linux-v0.46.1.tar.gz\")\n",
        "system(\"cp kallisto/kallisto /usr/local/bin\")"
      ],
      "execution_count": 0,
      "outputs": []
    },
    {
      "cell_type": "code",
      "metadata": {
        "id": "-AugVyXUBCBQ",
        "colab_type": "code",
        "outputId": "bc5c9f3f-6c95-4bbf-fbd0-8db104ca67f4",
        "colab": {
          "base_uri": "https://localhost:8080/",
          "height": 156
        }
      },
      "source": [
        "BiocManager::install(\"SingleR\")"
      ],
      "execution_count": 0,
      "outputs": [
        {
          "output_type": "stream",
          "text": [
            "Bioconductor version 3.10 (BiocManager 1.30.10), R 3.6.2 (2019-12-12)\n",
            "\n",
            "Installing package(s) 'SingleR'\n",
            "\n",
            "also installing the dependencies 'interactiveDisplayBase', 'RcppHNSW', 'AnnotationHub', 'DelayedMatrixStats', 'BiocNeighbors', 'ExperimentHub'\n",
            "\n",
            "\n"
          ],
          "name": "stderr"
        }
      ]
    },
    {
      "cell_type": "code",
      "metadata": {
        "id": "DBSh6hMZulN7",
        "colab_type": "code",
        "colab": {}
      },
      "source": [
        "system(\"pip3 install kb-python\")"
      ],
      "execution_count": 0,
      "outputs": []
    },
    {
      "cell_type": "code",
      "metadata": {
        "id": "HrJwVBFtdEeV",
        "colab_type": "code",
        "colab": {}
      },
      "source": [
        "library(slingshot)\n",
        "library(BUSpaRse)\n",
        "library(DropletUtils)\n",
        "library(tidyverse)\n",
        "library(Seurat)\n",
        "library(scales)\n",
        "library(viridis)\n",
        "library(Matrix)\n",
        "theme_set(theme_bw())"
      ],
      "execution_count": 0,
      "outputs": []
    },
    {
      "cell_type": "code",
      "metadata": {
        "id": "c5N2_1IwuFzH",
        "colab_type": "code",
        "colab": {}
      },
      "source": [
        "# Download data\n",
        "if (!dir.exists(\"./data\")) dir.create(\"./data\")\n",
        "if (!file.exists(\"./data/neuron_1k_v3_fastqs.tar\")) {\n",
        "  download.file(\"http://cf.10xgenomics.com/samples/cell-exp/3.0.0/neuron_1k_v3/neuron_1k_v3_fastqs.tar\", \n",
        "      \"./data/neuron_1k_v3_fastqs.tar\", method = \"wget\", quiet = TRUE)\n",
        "}"
      ],
      "execution_count": 0,
      "outputs": []
    },
    {
      "cell_type": "code",
      "metadata": {
        "id": "r-jyMeHNu7N9",
        "colab_type": "code",
        "colab": {}
      },
      "source": [
        "untar(\"./data/neuron_1k_v3_fastqs.tar\", exdir = \"./data\")"
      ],
      "execution_count": 0,
      "outputs": []
    },
    {
      "cell_type": "code",
      "metadata": {
        "id": "MUb076CVu-GO",
        "colab_type": "code",
        "colab": {}
      },
      "source": [
        "# Mouse transcriptome\n",
        "if (!dir.exists(\"./reference\")) dir.create(\"./reference\")\n",
        "if (!file.exists(\"./reference/mm_cdna99.fa.gz\")) {\n",
        "  download.file(\"ftp://ftp.ensembl.org/pub/release-99/fasta/mus_musculus/cdna/Mus_musculus.GRCm38.cdna.all.fa.gz\", \n",
        "  \"./reference/mm_cdna99.fa.gz\", method = \"wget\", quiet = TRUE)\n",
        "}"
      ],
      "execution_count": 0,
      "outputs": []
    },
    {
      "cell_type": "code",
      "metadata": {
        "id": "8g_09j3LvC3Q",
        "colab_type": "code",
        "outputId": "7ed57805-0ed0-4dd3-d798-1c1888b93980",
        "colab": {
          "base_uri": "https://localhost:8080/",
          "height": 17
        }
      },
      "source": [
        "system(\"kallisto index -i ./reference/mm_tr_index99.idx ./reference/mm_cdna99.fa.gz\", intern = TRUE)"
      ],
      "execution_count": 0,
      "outputs": [
        {
          "output_type": "display_data",
          "data": {
            "text/plain": [
              "character(0)"
            ],
            "text/latex": "",
            "text/markdown": "",
            "text/html": [
              ""
            ]
          },
          "metadata": {
            "tags": []
          }
        }
      ]
    },
    {
      "cell_type": "code",
      "metadata": {
        "id": "Uromo3jXvzrb",
        "colab_type": "code",
        "outputId": "cf0929a1-c3f0-4c8d-d1d2-ca2ed9e96aa6",
        "colab": {
          "base_uri": "https://localhost:8080/",
          "height": 51
        }
      },
      "source": [
        "tr2g <- tr2g_fasta(\"./reference/mm_cdna99.fa.gz\")"
      ],
      "execution_count": 0,
      "outputs": [
        {
          "output_type": "stream",
          "text": [
            "Reading FASTA file.\n",
            "\n"
          ],
          "name": "stderr"
        }
      ]
    },
    {
      "cell_type": "code",
      "metadata": {
        "id": "raB20TW6v0VE",
        "colab_type": "code",
        "colab": {}
      },
      "source": [
        "save_tr2g_bustools(tr2g, file_save = \"./reference/tr2g_mm99.tsv\")"
      ],
      "execution_count": 0,
      "outputs": []
    },
    {
      "cell_type": "code",
      "metadata": {
        "id": "v52QDQ9ewGe6",
        "colab_type": "code",
        "colab": {}
      },
      "source": [
        "system(\"chmod -R 777 data/\")"
      ],
      "execution_count": 0,
      "outputs": []
    },
    {
      "cell_type": "code",
      "metadata": {
        "id": "bpQLoWxjwHYy",
        "colab_type": "code",
        "outputId": "192384e8-bbd6-4b28-8db5-dbcb73bdfa80",
        "colab": {
          "base_uri": "https://localhost:8080/",
          "height": 113
        }
      },
      "source": [
        "fn <- list.files(\"data/neuron_1k_v3_fastqs\", full.names = TRUE)\n",
        "fn <- fn[str_detect(fn, \"R\\\\d_\")]\n",
        "fn"
      ],
      "execution_count": 0,
      "outputs": [
        {
          "output_type": "display_data",
          "data": {
            "text/plain": [
              "[1] \"data/neuron_1k_v3_fastqs/neuron_1k_v3_S1_L001_R1_001.fastq.gz\"\n",
              "[2] \"data/neuron_1k_v3_fastqs/neuron_1k_v3_S1_L001_R2_001.fastq.gz\"\n",
              "[3] \"data/neuron_1k_v3_fastqs/neuron_1k_v3_S1_L002_R1_001.fastq.gz\"\n",
              "[4] \"data/neuron_1k_v3_fastqs/neuron_1k_v3_S1_L002_R2_001.fastq.gz\""
            ],
            "text/latex": "\\begin{enumerate*}\n\\item 'data/neuron\\_1k\\_v3\\_fastqs/neuron\\_1k\\_v3\\_S1\\_L001\\_R1\\_001.fastq.gz'\n\\item 'data/neuron\\_1k\\_v3\\_fastqs/neuron\\_1k\\_v3\\_S1\\_L001\\_R2\\_001.fastq.gz'\n\\item 'data/neuron\\_1k\\_v3\\_fastqs/neuron\\_1k\\_v3\\_S1\\_L002\\_R1\\_001.fastq.gz'\n\\item 'data/neuron\\_1k\\_v3\\_fastqs/neuron\\_1k\\_v3\\_S1\\_L002\\_R2\\_001.fastq.gz'\n\\end{enumerate*}\n",
            "text/markdown": "1. 'data/neuron_1k_v3_fastqs/neuron_1k_v3_S1_L001_R1_001.fastq.gz'\n2. 'data/neuron_1k_v3_fastqs/neuron_1k_v3_S1_L001_R2_001.fastq.gz'\n3. 'data/neuron_1k_v3_fastqs/neuron_1k_v3_S1_L002_R1_001.fastq.gz'\n4. 'data/neuron_1k_v3_fastqs/neuron_1k_v3_S1_L002_R2_001.fastq.gz'\n\n\n",
            "text/html": [
              "<ol class=list-inline>\n",
              "\t<li>'data/neuron_1k_v3_fastqs/neuron_1k_v3_S1_L001_R1_001.fastq.gz'</li>\n",
              "\t<li>'data/neuron_1k_v3_fastqs/neuron_1k_v3_S1_L001_R2_001.fastq.gz'</li>\n",
              "\t<li>'data/neuron_1k_v3_fastqs/neuron_1k_v3_S1_L002_R1_001.fastq.gz'</li>\n",
              "\t<li>'data/neuron_1k_v3_fastqs/neuron_1k_v3_S1_L002_R2_001.fastq.gz'</li>\n",
              "</ol>\n"
            ]
          },
          "metadata": {
            "tags": []
          }
        }
      ]
    },
    {
      "cell_type": "code",
      "metadata": {
        "id": "cMsDwvF9wM5W",
        "colab_type": "code",
        "outputId": "93af3450-8733-4677-8dd4-3267a5ef9c6f",
        "colab": {
          "base_uri": "https://localhost:8080/",
          "height": 17
        }
      },
      "source": [
        "system(paste(\"kb count -i reference/mm_tr_index99.idx -g reference/tr2g_mm99.tsv -x 10xv3 -o output\",\n",
        "paste(fn, collapse = \" \")), intern = TRUE)"
      ],
      "execution_count": 0,
      "outputs": [
        {
          "output_type": "display_data",
          "data": {
            "text/plain": [
              "character(0)"
            ],
            "text/latex": "",
            "text/markdown": "",
            "text/html": [
              ""
            ]
          },
          "metadata": {
            "tags": []
          }
        }
      ]
    },
    {
      "cell_type": "code",
      "metadata": {
        "id": "fKXjiLSswUts",
        "colab_type": "code",
        "colab": {}
      },
      "source": [
        "res_mat <- read_count_output(\"./output/counts_unfiltered\", name = \"cells_x_genes\", tcc = FALSE)"
      ],
      "execution_count": 0,
      "outputs": []
    },
    {
      "cell_type": "code",
      "metadata": {
        "id": "-PAmiq1OweuF",
        "colab_type": "code",
        "outputId": "30244000-09d5-4766-f8cd-9a6769edf59b",
        "colab": {
          "base_uri": "https://localhost:8080/",
          "height": 79
        }
      },
      "source": [
        "dim(res_mat)"
      ],
      "execution_count": 0,
      "outputs": [
        {
          "output_type": "display_data",
          "data": {
            "text/plain": [
              "[1]  36711 399524"
            ],
            "text/latex": "\\begin{enumerate*}\n\\item 36711\n\\item 399524\n\\end{enumerate*}\n",
            "text/markdown": "1. 36711\n2. 399524\n\n\n",
            "text/html": [
              "<ol class=list-inline>\n",
              "\t<li>36711</li>\n",
              "\t<li>399524</li>\n",
              "</ol>\n"
            ]
          },
          "metadata": {
            "tags": []
          }
        }
      ]
    },
    {
      "cell_type": "code",
      "metadata": {
        "id": "5_6xMwAHwkFx",
        "colab_type": "code",
        "outputId": "09d3d2e0-0e11-4d5d-9ce7-2822d59b94f3",
        "colab": {
          "base_uri": "https://localhost:8080/",
          "height": 51
        }
      },
      "source": [
        "tot_counts <- Matrix::colSums(res_mat)\n",
        "summary(tot_counts)"
      ],
      "execution_count": 0,
      "outputs": [
        {
          "output_type": "display_data",
          "data": {
            "text/plain": [
              "     Min.   1st Qu.    Median      Mean   3rd Qu.      Max. \n",
              "     0.00      1.00      1.00     40.47      5.00 154216.00 "
            ]
          },
          "metadata": {
            "tags": []
          }
        }
      ]
    },
    {
      "cell_type": "code",
      "metadata": {
        "id": "UHxpUH5owmgY",
        "colab_type": "code",
        "colab": {}
      },
      "source": [
        "# Compute barcode rank\n",
        "bc_rank <- barcodeRanks(res_mat, lower = 1000)"
      ],
      "execution_count": 0,
      "outputs": []
    },
    {
      "cell_type": "code",
      "metadata": {
        "id": "ITWowjpSwpUJ",
        "colab_type": "code",
        "colab": {}
      },
      "source": [
        "#' Knee plot for filtering empty droplets\n",
        "#' \n",
        "#' Visualizes the inflection point to filter empty droplets. This function plots \n",
        "#' different datasets with a different color. Facets can be added after calling\n",
        "#' this function with `facet_*` functions.\n",
        "#' \n",
        "#' @param bc_rank A `DataFrame` output from `DropletUtil::barcodeRanks`.\n",
        "#' @return A ggplot2 object.\n",
        "knee_plot <- function(bc_rank) {\n",
        "  knee_plt <- tibble(rank = bc_rank[[\"rank\"]],\n",
        "                     total = bc_rank[[\"total\"]]) %>% \n",
        "    distinct() %>% \n",
        "    dplyr::filter(total > 0)\n",
        "  annot <- tibble(inflection = metadata(bc_rank)[[\"inflection\"]],\n",
        "                  rank_cutoff = max(bc_rank$rank[bc_rank$total > metadata(bc_rank)[[\"inflection\"]]]))\n",
        "  p <- ggplot(knee_plt, aes(rank, total)) +\n",
        "    geom_line() +\n",
        "    geom_hline(aes(yintercept = inflection), data = annot, linetype = 2) +\n",
        "    geom_vline(aes(xintercept = rank_cutoff), data = annot, linetype = 2) +\n",
        "    scale_x_log10() +\n",
        "    scale_y_log10() +\n",
        "    annotation_logticks() +\n",
        "    labs(x = \"Rank\", y = \"Total UMIs\")\n",
        "  return(p)\n",
        "}"
      ],
      "execution_count": 0,
      "outputs": []
    },
    {
      "cell_type": "code",
      "metadata": {
        "id": "2cglSS8CwvZV",
        "colab_type": "code",
        "outputId": "f8082a7c-140c-4995-e4ab-3f2bbce862ce",
        "colab": {
          "base_uri": "https://localhost:8080/",
          "height": 377
        }
      },
      "source": [
        "options(repr.plot.width=9, repr.plot.height=6)\n",
        "knee_plot(bc_rank)"
      ],
      "execution_count": 0,
      "outputs": [
        {
          "output_type": "display_data",
          "data": {
            "image/png": "[encoded data removed]",
            "text/plain": [
              "plot without title"
            ]
          },
          "metadata": {
            "tags": [],
            "image/png": {
              "width": 540,
              "height": 360
            },
            "text/plain": {
              "width": 540,
              "height": 360
            }
          }
        }
      ]
    },
    {
      "cell_type": "code",
      "metadata": {
        "id": "4VFO9hRZwyEl",
        "colab_type": "code",
        "outputId": "b5b6808d-caf7-43d5-8a1c-4a1b89918271",
        "colab": {
          "base_uri": "https://localhost:8080/",
          "height": 79
        }
      },
      "source": [
        "# Filter the matrix\n",
        "res_mat <- res_mat[, tot_counts > metadata(bc_rank)$inflection]\n",
        "res_mat <- res_mat[Matrix::rowSums(res_mat) > 0,]\n",
        "dim(res_mat)"
      ],
      "execution_count": 0,
      "outputs": [
        {
          "output_type": "display_data",
          "data": {
            "text/plain": [
              "[1] 20198  1210"
            ],
            "text/latex": "\\begin{enumerate*}\n\\item 20198\n\\item 1210\n\\end{enumerate*}\n",
            "text/markdown": "1. 20198\n2. 1210\n\n\n",
            "text/html": [
              "<ol class=list-inline>\n",
              "\t<li>20198</li>\n",
              "\t<li>1210</li>\n",
              "</ol>\n"
            ]
          },
          "metadata": {
            "tags": []
          }
        }
      ]
    },
    {
      "cell_type": "code",
      "metadata": {
        "id": "RjtFLRP-w3v5",
        "colab_type": "code",
        "colab": {}
      },
      "source": [
        "rownames(res_mat) <- str_remove(rownames(res_mat), \"\\\\.\\\\d+\")"
      ],
      "execution_count": 0,
      "outputs": []
    },
    {
      "cell_type": "code",
      "metadata": {
        "id": "KpQNZ4hLw5Uo",
        "colab_type": "code",
        "outputId": "1927d578-d24b-41dc-965a-7b4d79bfe563",
        "colab": {
          "base_uri": "https://localhost:8080/",
          "height": 96
        }
      },
      "source": [
        "mouse.rnaseq <- MouseRNAseqData(ensembl = TRUE)\n",
        "sce <- SingleCellExperiment(assays = list(counts = res_mat))\n",
        "sce <- logNormCounts(sce)"
      ],
      "execution_count": 0,
      "outputs": [
        {
          "output_type": "error",
          "ename": "ERROR",
          "evalue": "ignored",
          "traceback": [
            "Error in MouseRNAseqData(ensembl = TRUE): could not find function \"MouseRNAseqData\"\nTraceback:\n"
          ]
        }
      ]
    },
    {
      "cell_type": "code",
      "metadata": {
        "id": "R67csTH2xALY",
        "colab_type": "code",
        "colab": {}
      },
      "source": [
        "annots <- SingleR(sce, ref = mouse.rnaseq, labels = colData(mouse.rnaseq)$label.fine,\n",
        "de.method = \"wilcox\", method = \"single\", BPPARAM = MulticoreParam(4))"
      ],
      "execution_count": 0,
      "outputs": []
    },
    {
      "cell_type": "code",
      "metadata": {
        "id": "VjakhBlvzHWJ",
        "colab_type": "code",
        "colab": {}
      },
      "source": [
        "annots"
      ],
      "execution_count": 0,
      "outputs": []
    },
    {
      "cell_type": "code",
      "metadata": {
        "id": "RiIp4YnHmS2l",
        "colab_type": "code",
        "colab": {}
      },
      "source": [
        "seu <- CreateSeuratObject(mat_filtered) %>% \n",
        "  SCTransform() # normalize and scale\n",
        "# Add cell type annotation to metadata\n",
        "seu <- AddMetaData(seu, setNames(annot$labels[ind], cells_use), \n",
        "                   col.name = \"cell_type\")"
      ],
      "execution_count": 0,
      "outputs": []
    },
    {
      "cell_type": "code",
      "metadata": {
        "id": "OpD_Baqbmbap",
        "colab_type": "code",
        "colab": {}
      },
      "source": [
        "VlnPlot(seu, c(\"nCount_RNA\", \"nFeature_RNA\"), pt.size = 0.1, ncol = 1, group.by = \"cell_type\")"
      ],
      "execution_count": 0,
      "outputs": []
    },
    {
      "cell_type": "code",
      "metadata": {
        "id": "6753CWycmeDi",
        "colab_type": "code",
        "colab": {}
      },
      "source": [
        "ggplot(seu@meta.data, aes(nCount_RNA, nFeature_RNA, color = cell_type)) +\n",
        "  geom_point(size = 0.5) +\n",
        "  scale_color_brewer(type = \"qual\", palette = \"Set2\", name = \"cell type\") +\n",
        "  scale_x_log10() +\n",
        "  scale_y_log10() +\n",
        "  theme_bw() +\n",
        "  # Make points larger in legend\n",
        "  guides(color = guide_legend(override.aes = list(size = 3))) +\n",
        "  labs(x = \"Total UMI counts\", y = \"Number of genes detected\")"
      ],
      "execution_count": 0,
      "outputs": []
    },
    {
      "cell_type": "markdown",
      "metadata": {
        "id": "rAoy1WcummGj",
        "colab_type": "text"
      },
      "source": [
        "## Dimension reduction"
      ]
    },
    {
      "cell_type": "code",
      "metadata": {
        "id": "szb5XiW3miEz",
        "colab_type": "code",
        "colab": {}
      },
      "source": [
        "seu <- RunPCA(seu, npcs = 70, verbose = FALSE)\n",
        "ElbowPlot(seu, ndims = 70)"
      ],
      "execution_count": 0,
      "outputs": []
    },
    {
      "cell_type": "markdown",
      "metadata": {
        "id": "WA2bMIk1mtpz",
        "colab_type": "text"
      },
      "source": [
        "The y axis is standard deviation (not variance), or the singular values from singular value decomposition on the data performed for PCA."
      ]
    },
    {
      "cell_type": "code",
      "metadata": {
        "id": "1uV44YMKmqak",
        "colab_type": "code",
        "colab": {}
      },
      "source": [
        "DimPlot(seu, reduction = \"pca\",\n",
        "        group.by = \"cell_type\", pt.size = 0.5, label = TRUE, repel = TRUE) +\n",
        "  scale_color_brewer(type = \"qual\", palette = \"Set2\")"
      ],
      "execution_count": 0,
      "outputs": []
    },
    {
      "cell_type": "code",
      "metadata": {
        "id": "q_qp7MHdmx3h",
        "colab_type": "code",
        "colab": {}
      },
      "source": [
        "seu <- RunTSNE(seu, dims = 1:50, verbose = FALSE)\n",
        "DimPlot(seu, reduction = \"tsne\",\n",
        "        group.by = \"cell_type\", pt.size = 0.5, label = TRUE, repel = TRUE) +\n",
        "  scale_color_brewer(type = \"qual\", palette = \"Set2\")"
      ],
      "execution_count": 0,
      "outputs": []
    },
    {
      "cell_type": "markdown",
      "metadata": {
        "id": "W-FcwtmOm8nR",
        "colab_type": "text"
      },
      "source": [
        "UMAP can better preserve pairwise distance of cells than tSNE and can better separate cell populations than the first 2 PCs of PCA ([Becht et al. 2018](https://doi.org/10.1038/nbt.4314)), so the TI will be done on UMAP rather than tSNE or PCA. The current CRAN version of Seurat uses the R package `uwot` rather than the Python version for UMAP."
      ]
    },
    {
      "cell_type": "code",
      "metadata": {
        "id": "aAcA3odUm1Fw",
        "colab_type": "code",
        "colab": {}
      },
      "source": [
        "seu <- RunUMAP(seu, dims = 1:50, seed.use = 4867)\n",
        "DimPlot(seu, reduction = \"umap\",\n",
        "        group.by = \"cell_type\", pt.size = 0.5, label = TRUE, repel = TRUE) +\n",
        "  scale_color_brewer(type = \"qual\", palette = \"Set2\")"
      ],
      "execution_count": 0,
      "outputs": []
    },
    {
      "cell_type": "markdown",
      "metadata": {
        "id": "kWvjQ3hunDdl",
        "colab_type": "text"
      },
      "source": [
        "Cell type annotation with `SingleR` requires a reference with bulk RNA seq data for isolated known cell types. The reference used for cell type annotation here does not differentiate between different types of neural progenitor cells; clustering can further partition the neural progenitor cells. Furthermore, `slingshot` is based on cluster-wise minimum spanning tree, so finding a good clustering is important to good trajectory inference with `slingshot`. The clustering algorithm used here is [Leiden](https://www.nature.com/articles/s41598-019-41695-z), which is an improvement over the commonly used Louvain; Leiden communities are guaranteed to be well-connected, while Louvain can lead to poorly connected communities."
      ]
    },
    {
      "cell_type": "code",
      "metadata": {
        "id": "TDtFJWZanAkt",
        "colab_type": "code",
        "colab": {}
      },
      "source": [
        "names(seu@meta.data)"
      ],
      "execution_count": 0,
      "outputs": []
    },
    {
      "cell_type": "code",
      "metadata": {
        "id": "MXB6MgIGnGvO",
        "colab_type": "code",
        "colab": {}
      },
      "source": [
        "seu <- FindNeighbors(seu, verbose = FALSE, dims = 1:50)\n",
        "seu <- FindClusters(seu, algorithm = 4, random.seed = 256, resolution = 1)\n",
        "DimPlot(seu, pt.size = 0.5, reduction = \"umap\", group.by = \"seurat_clusters\", label = TRUE)"
      ],
      "execution_count": 0,
      "outputs": []
    },
    {
      "cell_type": "markdown",
      "metadata": {
        "id": "Thbf0wBfnMb_",
        "colab_type": "text"
      },
      "source": [
        "# Slingshot\n",
        "## Trajectory inference\n",
        "While the `slingshot` vignette uses `SingleCellExperiment`, `slingshot` can also take a matrix of cell embeddings in reduced dimension as input. We can optionally specify the cluster to start or end the trajectory based on biological knowledge. Here, since quiescent neural stem cells are in cluster 4, the starting cluster would be 4 near the top left of the previous plot.\n",
        "\n",
        "Here, UMAP projections are used for trajectory inference, as in Monocle 3, for the purpose of visualization. However, **I no longer consider this a good idea**, due to distortions introduced by UMAP. See [this paper](https://www.biorxiv.org/content/10.1101/689851v3) for the extent non-linear dimension reduction methods distort the data. The latent dimension of the data is most likely far more than 2 or 3 dimensions, so forcing it down to 2 or 3 dimensions are bound to introduce distortions, just like how projecting the spherical surface of the Earth to 2 dimensions in maps introduces distortions. Furthermore, after the projection, some trajectories are no longer topologically feasible. For instance, imagine a stream coming out of the hole of a doughnut in 3D. This is not possible in 2D, so when that structure is projected to 2D, part of the stream may become buried in the middle of the doughnut, or the doughnut may be broken to allow the stream through, or part of the steam will be intermixed with part of the doughnut though they shouldn't. I recommend using a larger number of principal components instead, but in that case, the lineages and principal curves can't be visualized (we can plot the curves within a 2 dimensional subspace, such as the first 2 PCs, but that usually looks like abstract art and isn't informative about the lineages)."
      ]
    },
    {
      "cell_type": "code",
      "metadata": {
        "id": "6ZITLUmJnI_u",
        "colab_type": "code",
        "colab": {}
      },
      "source": [
        "sds <- slingshot(Embeddings(seu, \"umap\"), clusterLabels = seu$seurat_clusters, \n",
        "                 start.clus = 4, stretch = 0)"
      ],
      "execution_count": 0,
      "outputs": []
    },
    {
      "cell_type": "markdown",
      "metadata": {
        "id": "8FIUNQ5xnSqN",
        "colab_type": "text"
      },
      "source": [
        "Unfortunately, `slingshot` does not natively support `ggplot2`. So this is a function that assigns colors to each cell in base R graphics."
      ]
    },
    {
      "cell_type": "code",
      "metadata": {
        "id": "VGnHKSUknPcK",
        "colab_type": "code",
        "colab": {}
      },
      "source": [
        "#' Assign a color to each cell based on some value\n",
        "#' \n",
        "#' @param cell_vars Vector indicating the value of a variable associated with cells.\n",
        "#' @param pal_fun Palette function that returns a vector of hex colors, whose\n",
        "#' argument is the length of such a vector.\n",
        "#' @param ... Extra arguments for pal_fun.\n",
        "#' @return A vector of hex colors with one entry for each cell.\n",
        "cell_pal <- function(cell_vars, pal_fun,...) {\n",
        "  if (is.numeric(cell_vars)) {\n",
        "    pal <- pal_fun(100, ...)\n",
        "    return(pal[cut(cell_vars, breaks = 100)])\n",
        "  } else {\n",
        "    categories <- sort(unique(cell_vars))\n",
        "    pal <- setNames(pal_fun(length(categories), ...), categories)\n",
        "    return(pal[cell_vars])\n",
        "  }\n",
        "}"
      ],
      "execution_count": 0,
      "outputs": []
    },
    {
      "cell_type": "markdown",
      "metadata": {
        "id": "gzjxy9UQnb-S",
        "colab_type": "text"
      },
      "source": [
        "We need color palettes for both cell types and Leiden clusters. These would be the same colors seen in the Seurat plots."
      ]
    },
    {
      "cell_type": "code",
      "metadata": {
        "id": "jT36YNuZnWDL",
        "colab_type": "code",
        "colab": {}
      },
      "source": [
        "cell_colors <- cell_pal(seu$cell_type, brewer_pal(\"qual\", \"Set2\"))\n",
        "cell_colors_clust <- cell_pal(seu$seurat_clusters, hue_pal())"
      ],
      "execution_count": 0,
      "outputs": []
    },
    {
      "cell_type": "code",
      "metadata": {
        "id": "mNWGR6cunpuv",
        "colab_type": "code",
        "colab": {}
      },
      "source": [
        "plot(reducedDim(sds), col = cell_colors, pch = 16, cex = 0.5)\n",
        "lines(sds, lwd = 2, type = 'lineages', col = 'black')"
      ],
      "execution_count": 0,
      "outputs": []
    },
    {
      "cell_type": "markdown",
      "metadata": {
        "id": "BSx0hp0An_kb",
        "colab_type": "text"
      },
      "source": [
        "Again, the qNSCs are the brown points near the top left, NPCs are green, and neurons are pink. It seems that multiple neural lineages formed. This is a much more complicated picture than the two branches of neurons projected on the first two PCs in the pseudotime figure in the [kallisto | bustools paper](https://www.biorxiv.org/content/10.1101/673285v1) (Supplementary Figure 6.5). It also seems that `slingshot` did not pick up the glial lineage (oligodendrocytes and astrocytes), as the vast majority of cells here are NPCs or neurons. \n",
        "\n",
        "See how this looks with Leiden clusters."
      ]
    },
    {
      "cell_type": "code",
      "metadata": {
        "id": "1eN3REQroAPU",
        "colab_type": "code",
        "colab": {}
      },
      "source": [
        "plot(reducedDim(sds), col = cell_colors_clust, pch = 16, cex = 0.5)\n",
        "lines(sds, lwd = 2, type = 'lineages', col = 'black')"
      ],
      "execution_count": 0,
      "outputs": []
    },
    {
      "cell_type": "markdown",
      "metadata": {
        "id": "MC9iO0iHoFox",
        "colab_type": "text"
      },
      "source": [
        "Here `slingshot` thinks that somewhere around cluster 6 is a point where multiple neural lineages diverge. Different clustering (e.g. different random initiations of Louvain or Leiden algorithms) can lead to somewhat different trajectories, the the main structure is not affected. With different runs of Leiden clustering (without fixed seed), the branching point is placed in the region around its current location, near the small UMAP offshoot there.\n",
        "\n",
        "Principal curves are smoothed representations of each lineage; pseudotime values are computed by projecting the cells onto the principal curves. What do the principal curves look like?"
      ]
    },
    {
      "cell_type": "code",
      "metadata": {
        "id": "l1t-WSu9oNKn",
        "colab_type": "code",
        "colab": {}
      },
      "source": [
        "plot(reducedDim(sds), col = cell_colors, pch = 16, cex = 0.5)\n",
        "lines(sds, lwd = 2, col = 'black')"
      ],
      "execution_count": 0,
      "outputs": []
    },
    {
      "cell_type": "markdown",
      "metadata": {
        "id": "rFrjrvzioQGW",
        "colab_type": "text"
      },
      "source": [
        "Which cells are in which lineage? Here we plot the pseudotime values for each lineage."
      ]
    },
    {
      "cell_type": "code",
      "metadata": {
        "id": "Wj8sr_VmoQjZ",
        "colab_type": "code",
        "colab": {}
      },
      "source": [
        "nc <- 3\n",
        "pt <- slingPseudotime(sds)\n",
        "nms <- colnames(pt)\n",
        "nr <- ceiling(length(nms)/nc)\n",
        "pal <- viridis(100, end = 0.95)\n",
        "par(mfrow = c(nr, nc))\n",
        "for (i in nms) {\n",
        "  colors <- pal[cut(pt[,i], breaks = 100)]\n",
        "  plot(reducedDim(sds), col = colors, pch = 16, cex = 0.5, main = i)\n",
        "  lines(sds, lwd = 2, col = 'black', type = 'lineages')\n",
        "}"
      ],
      "execution_count": 0,
      "outputs": []
    }
  ]
}